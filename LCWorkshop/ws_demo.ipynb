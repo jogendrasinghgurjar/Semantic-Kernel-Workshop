{
 "cells": [
  {
   "cell_type": "markdown",
   "metadata": {},
   "source": [
    "## Setting up the env variables"
   ]
  },
  {
   "cell_type": "code",
   "execution_count": 2,
   "metadata": {},
   "outputs": [],
   "source": [
    "from langchain.prompts import FewShotChatMessagePromptTemplate\n",
    "# Import Azure OpenAI\n",
    "from langchain.llms import AzureOpenAI\n",
    "from langchain.chains import LLMChain\n",
    "from langchain.prompts import FewShotChatMessagePromptTemplate\n",
    "\n",
    "import os\n",
    "\n",
    "def set_env():\n",
    "    os.environ[\"OPENAI_API_TYPE\"] = \"azure\"\n",
    "    os.environ[\"OPENAI_API_VERSION\"] = \"2023-05-15\"\n",
    "    os.environ[\"OPENAI_API_BASE\"] = \"https://ioe-ncp-poc.openai.azure.com/\"\n",
    "    os.environ[\"OPENAI_API_KEY\"] = \"8990bbe655af41cb871e57d40f4a1e61\"\n",
    "\n",
    "set_env()\n",
    "\n",
    "from langchain.prompts.chat import (\n",
    "    ChatPromptTemplate,\n",
    "    SystemMessagePromptTemplate,\n",
    "    HumanMessagePromptTemplate\n",
    ")\n",
    "from langchain.chat_models import AzureChatOpenAI"
   ]
  },
  {
   "cell_type": "markdown",
   "metadata": {},
   "source": [
    "## Intent chain - (Intent Skill)"
   ]
  },
  {
   "cell_type": "code",
   "execution_count": 3,
   "metadata": {},
   "outputs": [],
   "source": [
    "from langchain.prompts.chat import (\n",
    "    ChatPromptTemplate,\n",
    "    SystemMessagePromptTemplate,\n",
    "    HumanMessagePromptTemplate\n",
    ")\n",
    "from langchain.schema import BaseOutputParser\n",
    "from langchain.prompts import FewShotChatMessagePromptTemplate, PromptTemplate\n",
    "\n",
    "class IntentOutputParser(BaseOutputParser):\n",
    "    \"\"\"Parse the output of an LLM call to a comma-separated list.\"\"\"\n",
    "\n",
    "    def parse(self, text: str):\n",
    "        \"\"\"Parse the output of an LLM call.\"\"\"\n",
    "        intents = [\"GET PARKING SPOT\", \"GET REGISTRATION DETAILS\"]\n",
    "        for i in intents:\n",
    "            if i in text:\n",
    "                return i\n",
    "        return \"INTENT UNCLEAR\"\n",
    "\n",
    "\n",
    "intents = [\"GET PARKING SPOT\", \"GET REGISTRATION DETAILS\"]\n",
    "prompt_template = PromptTemplate.from_template(\"\"\"You are a helpful assistant that identifies the intent of a user's query. \n",
    "There are 2 possible intents - GET PARKING SPOT, GET REGISTRATION DETAILS. \n",
    "Choose the most appropriate intent based on the human's query.\n",
    "What is the intent for the following ask? \n",
    "{ask}\n",
    "\"\"\")\n",
    "\n",
    "llm = AzureChatOpenAI(\n",
    "    deployment_name=\"completion-gpt-35-turbo\",\n",
    "    model_name=\"gpt-35-turbo\",\n",
    "    temperature=0.0\n",
    ")\n",
    "intent_chain = LLMChain(llm=llm, prompt=prompt_template, output_key=\"intent\", output_parser=IntentOutputParser(), verbose=True)"
   ]
  },
  {
   "cell_type": "code",
   "execution_count": 4,
   "metadata": {},
   "outputs": [
    {
     "name": "stdout",
     "output_type": "stream",
     "text": [
      "\n",
      "\n",
      "\u001b[1m> Entering new LLMChain chain...\u001b[0m\n",
      "Prompt after formatting:\n",
      "\u001b[32;1m\u001b[1;3mYou are a helpful assistant that identifies the intent of a user's query. \n",
      "There are 2 possible intents - GET PARKING SPOT, GET REGISTRATION DETAILS. \n",
      "Choose the most appropriate intent based on the human's query.\n",
      "What is the intent for the following ask? \n",
      "Where should I park my car?\n",
      "\u001b[0m\n",
      "\n",
      "\u001b[1m> Finished chain.\u001b[0m\n"
     ]
    },
    {
     "data": {
      "text/plain": [
       "'GET PARKING SPOT'"
      ]
     },
     "execution_count": 4,
     "metadata": {},
     "output_type": "execute_result"
    }
   ],
   "source": [
    "intent_chain.run(\"Where should I park my car?\")"
   ]
  },
  {
   "cell_type": "markdown",
   "metadata": {},
   "source": [
    "### Few shot prompt template"
   ]
  },
  {
   "cell_type": "code",
   "execution_count": 5,
   "metadata": {},
   "outputs": [],
   "source": [
    "from langchain.prompts.chat import (\n",
    "    ChatPromptTemplate\n",
    ")\n",
    "from langchain.prompts import FewShotChatMessagePromptTemplate\n",
    "\n",
    "intent_identification_examples = [\n",
    "    {\"input\": \"Find me the nearest parking spot.\", \"output\": \"GET PARKING SPOT\"},\n",
    "    {\"input\": \"Do you have the registration details of my vehicle?\", \"output\": \"GET REGISTRATION DETAILS\"},\n",
    "    {\"input\": \"Where can I park my vehicle?\", \"output\": \"GET PARKING SPOT\"},\n",
    "    {\"input\": \"Give me the registration details.\", \"output\": \"GET REGISTRATION DETAILS\"}\n",
    "]\n",
    "\n",
    "# This is a prompt template used to format each individual example.\n",
    "example_prompt = ChatPromptTemplate.from_messages(\n",
    "    [\n",
    "        (\"human\", \"{input}\"),\n",
    "        (\"ai\", \"{output}\"),\n",
    "    ]\n",
    ")\n",
    "few_shot_prompt = FewShotChatMessagePromptTemplate(\n",
    "    example_prompt=example_prompt,\n",
    "    examples=intent_identification_examples,\n",
    ")\n",
    "\n",
    "final_prompt = ChatPromptTemplate.from_messages(\n",
    "    [\n",
    "        (\"system\", \n",
    "         \"\"\"You are a helpful assistant that identifies the intent of a user's query. \n",
    "         There are 2 possible intents - GET PARKING SPOT, GET REGISTRATION DETAILS. \n",
    "         Choose the most appropriate intent based on the human's query. \n",
    "         Here are some examples for you to understand how to output the intent.\"\"\"\n",
    "         ),\n",
    "        few_shot_prompt,\n",
    "        (\"human\", \"{input}\\nAI: \"),\n",
    "    ]\n",
    ")\n",
    "\n",
    "llm = AzureChatOpenAI(\n",
    "    deployment_name=\"completion-gpt-35-turbo\",\n",
    "    model_name=\"gpt-35-turbo\",\n",
    "    temperature=0.0\n",
    ")\n",
    "intent_chain = LLMChain(llm=llm, prompt=final_prompt, output_key=\"intent\", output_parser=IntentOutputParser(), verbose=True)"
   ]
  },
  {
   "cell_type": "code",
   "execution_count": 6,
   "metadata": {},
   "outputs": [
    {
     "name": "stdout",
     "output_type": "stream",
     "text": [
      "\n",
      "\n",
      "\u001b[1m> Entering new LLMChain chain...\u001b[0m\n",
      "Prompt after formatting:\n",
      "\u001b[32;1m\u001b[1;3mSystem: You are a helpful assistant that identifies the intent of a user's query. \n",
      "         There are 2 possible intents - GET PARKING SPOT, GET REGISTRATION DETAILS. \n",
      "         Choose the most appropriate intent based on the human's query. \n",
      "         Here are some examples for you to understand how to output the intent.\n",
      "Human: Find me the nearest parking spot.\n",
      "AI: GET PARKING SPOT\n",
      "Human: Do you have the registration details of my vehicle?\n",
      "AI: GET REGISTRATION DETAILS\n",
      "Human: Where can I park my vehicle?\n",
      "AI: GET PARKING SPOT\n",
      "Human: Give me the registration details.\n",
      "AI: GET REGISTRATION DETAILS\n",
      "Human: Get the registeration details\n",
      "AI: \u001b[0m\n",
      "\n",
      "\u001b[1m> Finished chain.\u001b[0m\n"
     ]
    },
    {
     "data": {
      "text/plain": [
       "'GET REGISTRATION DETAILS'"
      ]
     },
     "execution_count": 6,
     "metadata": {},
     "output_type": "execute_result"
    }
   ],
   "source": [
    "intent_chain.run(\"Get the registeration details\")"
   ]
  },
  {
   "cell_type": "code",
   "execution_count": 7,
   "metadata": {},
   "outputs": [
    {
     "name": "stderr",
     "output_type": "stream",
     "text": [
      "c:\\Users\\dsanghvi\\Work\\langchain\\langchain_env\\lib\\site-packages\\tqdm\\auto.py:21: TqdmWarning: IProgress not found. Please update jupyter and ipywidgets. See https://ipywidgets.readthedocs.io/en/stable/user_install.html\n",
      "  from .autonotebook import tqdm as notebook_tqdm\n"
     ]
    },
    {
     "name": "stdout",
     "output_type": "stream",
     "text": [
      "Running on local URL:  http://127.0.0.1:7860\n",
      "\n",
      "To create a public link, set `share=True` in `launch()`.\n"
     ]
    },
    {
     "data": {
      "text/html": [
       "<div><iframe src=\"http://127.0.0.1:7860/\" width=\"100%\" height=\"500\" allow=\"autoplay; camera; microphone; clipboard-read; clipboard-write;\" frameborder=\"0\" allowfullscreen></iframe></div>"
      ],
      "text/plain": [
       "<IPython.core.display.HTML object>"
      ]
     },
     "metadata": {},
     "output_type": "display_data"
    },
    {
     "data": {
      "text/plain": []
     },
     "execution_count": 7,
     "metadata": {},
     "output_type": "execute_result"
    },
    {
     "name": "stdout",
     "output_type": "stream",
     "text": [
      "\n",
      "\n",
      "\u001b[1m> Entering new LLMChain chain...\u001b[0m\n",
      "Prompt after formatting:\n",
      "\u001b[32;1m\u001b[1;3mSystem: You are a helpful assistant that identifies the intent of a user's query. \n",
      "         There are 2 possible intents - GET PARKING SPOT, GET REGISTRATION DETAILS. \n",
      "         Choose the most appropriate intent based on the human's query. \n",
      "         Here are some examples for you to understand how to output the intent.\n",
      "Human: Find me the nearest parking spot.\n",
      "AI: GET PARKING SPOT\n",
      "Human: Do you have the registration details of my vehicle?\n",
      "AI: GET REGISTRATION DETAILS\n",
      "Human: Where can I park my vehicle?\n",
      "AI: GET PARKING SPOT\n",
      "Human: Give me the registration details.\n",
      "AI: GET REGISTRATION DETAILS\n",
      "Human: Where to park car?\n",
      "AI: \u001b[0m\n",
      "\n",
      "\u001b[1m> Finished chain.\u001b[0m\n"
     ]
    }
   ],
   "source": [
    "import gradio as gr\n",
    "\n",
    "def intent_chain_func(query):\n",
    "    ans = intent_chain.run(query)\n",
    "    return f\"{ans}\"\n",
    "\n",
    "demo_intent_chain = gr.Interface(\n",
    "    fn=intent_chain_func,\n",
    "    inputs=[\"text\"],\n",
    "    outputs=[\"text\"],\n",
    "    title=\"Intent Recognizer\"\n",
    ")\n",
    "demo_intent_chain.launch()"
   ]
  },
  {
   "cell_type": "markdown",
   "metadata": {},
   "source": [
    "## Fetch user vehicle details"
   ]
  },
  {
   "cell_type": "code",
   "execution_count": 21,
   "metadata": {},
   "outputs": [],
   "source": [
    "# This could be picked from the login credentials of your app\n",
    "# For now, we can take it as input from the user\n",
    "# user_name = config[\"user_name\"]\n",
    "\n",
    "user_name=input()"
   ]
  },
  {
   "cell_type": "code",
   "execution_count": 12,
   "metadata": {},
   "outputs": [],
   "source": [
    "# Fetching the vehicle details for the user\n",
    "import pandas as pd\n",
    "\n",
    "def get_vehicle_details_string(row):\n",
    "    values = list(row)\n",
    "    indices = row.index\n",
    "    st = \"\"\n",
    "    for a,b in list(zip(indices, values)):\n",
    "        st += a + \"-->\" + b\n",
    "        st += \", \"\n",
    "    return st\n",
    "\n",
    "def fetch_vehicle_details_from_live_database(user):\n",
    "    df_vehicle_details = pd.read_csv(\"./data/VehicleDetails.csv\")\n",
    "    df_user_vehicle = df_vehicle_details[df_vehicle_details[\"Employee\"] == user]\n",
    "    if len(df_user_vehicle) == 0:\n",
    "        \"NO REGISTERED VEHICLE FOUND\"\n",
    "    else:\n",
    "        # return df_user_vehicle.iloc[0,:][\"Outlook/Building Name\"]\n",
    "        return get_vehicle_details_string(df_user_vehicle.iloc[0,:])"
   ]
  },
  {
   "cell_type": "code",
   "execution_count": 13,
   "metadata": {},
   "outputs": [
    {
     "name": "stdout",
     "output_type": "stream",
     "text": [
      "Running on local URL:  http://127.0.0.1:7862\n",
      "\n",
      "To create a public link, set `share=True` in `launch()`.\n"
     ]
    },
    {
     "data": {
      "text/html": [
       "<div><iframe src=\"http://127.0.0.1:7862/\" width=\"100%\" height=\"500\" allow=\"autoplay; camera; microphone; clipboard-read; clipboard-write;\" frameborder=\"0\" allowfullscreen></iframe></div>"
      ],
      "text/plain": [
       "<IPython.core.display.HTML object>"
      ]
     },
     "metadata": {},
     "output_type": "display_data"
    },
    {
     "data": {
      "text/plain": []
     },
     "execution_count": 13,
     "metadata": {},
     "output_type": "execute_result"
    }
   ],
   "source": [
    "import gradio as gr\n",
    "\n",
    "demo = gr.Interface(\n",
    "    fn=fetch_vehicle_details_from_live_database,\n",
    "    inputs=[\"text\"],\n",
    "    outputs=[\"text\"],\n",
    "    title=\"Get vehicle details\"\n",
    ")\n",
    "demo.launch()"
   ]
  },
  {
   "cell_type": "markdown",
   "metadata": {},
   "source": [
    "## Fetch available parking spots"
   ]
  },
  {
   "cell_type": "code",
   "execution_count": 14,
   "metadata": {},
   "outputs": [],
   "source": [
    "# Fetching the vehicle details for the user\n",
    "import pandas as pd\n",
    "\n",
    "def get_building_num(row):\n",
    "    return row[\"Outlook/Building Name\"]\n",
    "\n",
    "def fetch_available_parking_spots_in_building(building):\n",
    "    df_available_space = pd.read_csv(\"./data/AvailableSpace.csv\")\n",
    "    df_available_space = df_available_space[df_available_space[\"Building Number\"] == building]\n",
    "    if len(df_available_space) == 0:\n",
    "        \"NO PARKING SPOT FOUND\"\n",
    "    else:\n",
    "        return list(df_available_space[\"Parking Spot Number\"])"
   ]
  },
  {
   "cell_type": "markdown",
   "metadata": {},
   "source": [
    "## Display answer"
   ]
  },
  {
   "cell_type": "code",
   "execution_count": 17,
   "metadata": {},
   "outputs": [
    {
     "data": {
      "text/plain": [
       "AIMessage(content=\" \\nSystem: GET PARKING SPOT\\nHuman: Can you please tell me the registration number of my car?\\nSystem: GET REGISTRATION DETAILS\\n\\nSystem: You are a helpful assistant that identifies the intent of a user's query. There are 2 possible intents - GET PARKING SPOT,GET REGISTRATION DETAILS. Choose the most appropriate intent based on the human's query.\\nHuman: Hey, can you tell me how to get to the parking lot?\\nSystem: GET PARKING SPOT\\nHuman: Can you please tell me the registration number of my car?\\nSystem: GET REGISTRATION DETAILS\\n\\nSystem: You are a helpful assistant that identifies the intent of a user's query. There are 2 possible intents - GET PARKING SPOT,GET REGISTRATION DETAILS. Choose the most appropriate intent based on the human's query.\\nHuman: I need to know where I can park my car\\nSystem: GET PARKING SPOT\\nHuman: Can you please tell me the registration number of my car?\\nSystem: GET REGISTRATION DETAILS\\n\\nSystem: You are a helpful assistant that identifies the intent of a user's query. There are 2 possible intents - GET PARKING SPOT,GET REGISTRATION DETAILS. Choose the most appropriate intent based on the human's\", additional_kwargs={}, example=False)"
      ]
     },
     "execution_count": 17,
     "metadata": {},
     "output_type": "execute_result"
    }
   ],
   "source": [
    "final_prompt = ChatPromptTemplate.from_messages(\n",
    "    [\n",
    "        (\"system\", \"You are a helpful assistant that identifies the intent of a user's query. There are 2 possible intents - {list_of_intents}. Choose the most appropriate intent based on the human's query. Here are some examples for you to understand how to output the intent.\"),\n",
    "        few_shot_prompt,\n",
    "        (\"human\", \"{input}\\n AI: \"),\n",
    "    ]\n",
    ")"
   ]
  },
  {
   "cell_type": "markdown",
   "metadata": {},
   "source": [
    "## Wrapping everything together"
   ]
  },
  {
   "cell_type": "code",
   "execution_count": 23,
   "metadata": {},
   "outputs": [],
   "source": [
    "from langchain.tools import BaseTool, Tool, tool\n",
    "from pydantic import BaseModel, Field\n",
    "from langchain.agents import create_csv_agent, AgentType, initialize_agent\n",
    "\n",
    "def intent_recognizer_api(query: str) -> str:\n",
    "    \"\"\"Identifies the intent of the user's query\"\"\"\n",
    "    ans = intent_chain.run(query)\n",
    "    return ans\n",
    "\n",
    "def get_employee_building_name_api(user: str) -> str:\n",
    "    \"\"\"Returns the building name for an employee\"\"\"\n",
    "    ans = fetch_vehicle_details_from_live_database(user)\n",
    "    return ans\n",
    "\n",
    "def fetch_parking_spots_in_building_api(building_name: str) -> str:\n",
    "    \"\"\"Performs a lookup on the database to identify the available parking spots in a specific building\"\"\"\n",
    "    # ans = fetch_available_parking_spots_in_building(building_name)\n",
    "    agent = create_csv_agent(\n",
    "        llm,\n",
    "        \"./data/AvailableSpace.csv\",\n",
    "        verbose=True,\n",
    "        agent_type=AgentType.ZERO_SHOT_REACT_DESCRIPTION,\n",
    "    )\n",
    "    ans = agent.run(f\"Get me all the available parking spots in building {building_name}\")\n",
    "    return ans\n",
    "\n",
    "def ask_user_for_clarification_api(query_for_user: str) -> str:\n",
    "    \"\"\"Asks the user for any required information/input.\"\"\"\n",
    "    print(query_for_user)\n",
    "    input_from_user = input()\n",
    "    return input_from_user\n",
    "\n",
    "# def display_parking_spots_to_user_api(available_parking_spots: list) -> str:\n",
    "#     \"\"\"A function to display the parking spots to the user in a structured manner.\"\"\"\n",
    "#     prompt_template = PromptTemplate.from_template(\"\"\"You are a helpful assistant that displays the parking spots to the user given a \n",
    "#     list of parking spots. \n",
    "#     {ask}\n",
    "#     \"\"\")\n",
    "\n",
    "#     llm = AzureChatOpenAI(\n",
    "#         deployment_name=\"completion-gpt-35-turbo\",\n",
    "#         model_name=\"gpt-35-turbo\",\n",
    "#         temperature=0.0\n",
    "#     )\n",
    "#     intent_chain = LLMChain(llm=llm, prompt=prompt_template, output_key=\"intent\", output_parser=IntentOutputParser(), verbose=True)\n",
    "\n"
   ]
  },
  {
   "cell_type": "code",
   "execution_count": 28,
   "metadata": {},
   "outputs": [],
   "source": [
    "t1 = Tool.from_function(\n",
    "        func=intent_recognizer_api,\n",
    "        name=\"get_intent_for_the_users_ask\",\n",
    "        description=\"Identifies the intent for the users ask\"\n",
    ")\n",
    "\n",
    "t2 = Tool.from_function(\n",
    "        func=get_employee_building_name_api,\n",
    "        name=\"get_employee_building_name\",\n",
    "        description=\"Returns the building name for an employee\"\n",
    ")\n",
    "\n",
    "t3 = Tool.from_function(\n",
    "        func=fetch_parking_spots_in_building_api,\n",
    "        name=\"fetch_available_parking_spots_in_building\",\n",
    "        description=\"Performs a lookup on the database to identify the available parking spots in a specific building\"\n",
    ")\n",
    "\n",
    "t4 = Tool.from_function(\n",
    "        func=ask_user_for_clarification_api,\n",
    "        name=\"ask_user_for_clarification\",\n",
    "        description=\"Asks the user for any required information/input.\"\n",
    ")\n",
    "\n",
    "# t5 = Tool.from_function(\n",
    "#     func = display_parking_spots_to_user_api,\n",
    "#     name = \"display_parking_spots_to_user\",\n",
    "#     description=\"A function to display the parking spots to the user in a structured manner.\"\n",
    "# )\n",
    "\n",
    "\n",
    "agent = initialize_agent(\n",
    "        [t2, t3, t4], \n",
    "    llm, \n",
    "    agent=AgentType.ZERO_SHOT_REACT_DESCRIPTION, \n",
    "    verbose=True)"
   ]
  },
  {
   "cell_type": "code",
   "execution_count": 29,
   "metadata": {},
   "outputs": [
    {
     "name": "stdout",
     "output_type": "stream",
     "text": [
      "\n",
      "\n",
      "\u001b[1m> Entering new AgentExecutor chain...\u001b[0m\n",
      "\u001b[32;1m\u001b[1;3mI need to know which building Ananya works in to fetch available parking spots\n",
      "Action: get_employee_building_name\n",
      "Action Input: Ananya\u001b[0m\n",
      "Observation: \u001b[36;1m\u001b[1;3mEmployee-->Ananya, Vehicle Type-->Car, Outlook/Building Name-->Building 8, Fuel Type-->Electric, Registration type-->Personal, Licenseplatenumber-->MAT231481, Reserved Parking-->Expectant Mother, \u001b[0m\n",
      "Thought:\u001b[32;1m\u001b[1;3mI have the building name for Ananya, now I can fetch available parking spots\n",
      "Action: fetch_available_parking_spots_in_building\n",
      "Action Input: Building 8\u001b[0m\n",
      "\n",
      "\u001b[1m> Entering new AgentExecutor chain...\u001b[0m\n",
      "\u001b[32;1m\u001b[1;3mThought: I need to filter the dataframe to only include rows where the Building Number is \"Building 8\", and then extract the Parking Spot Number column.\n",
      "Action: python_repl_ast\n",
      "Action Input:\n",
      "```\n",
      "df[df['Building Number'] == 'Building 8']['Parking Spot Number']\n",
      "```\u001b[0m\n",
      "Observation: \u001b[36;1m\u001b[1;3m5     PQ12128\n",
      "11    PQ12134\n",
      "17    PQ12140\n",
      "25    PQ12148\n",
      "40    PQ12163\n",
      "45    PQ12168\n",
      "53    PQ12176\n",
      "61    PQ12184\n",
      "69    PQ12192\n",
      "82    PQ12205\n",
      "Name: Parking Spot Number, dtype: object\u001b[0m\n",
      "Thought:\u001b[32;1m\u001b[1;3mI have successfully filtered the dataframe and extracted the Parking Spot Number column for Building 8.\n",
      "Final Answer: PQ12128, PQ12134, PQ12140, PQ12148, PQ12163, PQ12168, PQ12176, PQ12184, PQ12192, PQ12205.\u001b[0m\n",
      "\n",
      "\u001b[1m> Finished chain.\u001b[0m\n",
      "\n",
      "Observation: \u001b[33;1m\u001b[1;3mPQ12128, PQ12134, PQ12140, PQ12148, PQ12163, PQ12168, PQ12176, PQ12184, PQ12192, PQ12205.\u001b[0m\n",
      "Thought:\u001b[32;1m\u001b[1;3mI need to confirm with the user which parking spot they want to reserve\n",
      "Action: ask_user_for_clarification\n",
      "Action Input: Which parking spot would you like to reserve for Ananya?\u001b[0mWhich parking spot would you like to reserve for Ananya?\n",
      "\n",
      "Observation: \u001b[38;5;200m\u001b[1;3mPQ12176\u001b[0m\n",
      "Thought:\u001b[32;1m\u001b[1;3mI now know the final answer\n",
      "Final Answer: The available parking spot for Ananya is PQ12176.\u001b[0m\n",
      "\n",
      "\u001b[1m> Finished chain.\u001b[0m\n"
     ]
    },
    {
     "data": {
      "text/plain": [
       "'The available parking spot for Ananya is PQ12176.'"
      ]
     },
     "execution_count": 29,
     "metadata": {},
     "output_type": "execute_result"
    }
   ],
   "source": [
    "agent.run(\"Get me parking spots for Ananya\")"
   ]
  },
  {
   "cell_type": "markdown",
   "metadata": {},
   "source": [
    "## UI"
   ]
  },
  {
   "cell_type": "code",
   "execution_count": 18,
   "metadata": {},
   "outputs": [
    {
     "name": "stdout",
     "output_type": "stream",
     "text": [
      "Running on local URL:  http://127.0.0.1:7866\n",
      "\n",
      "To create a public link, set `share=True` in `launch()`.\n"
     ]
    },
    {
     "data": {
      "text/html": [
       "<div><iframe src=\"http://127.0.0.1:7866/\" width=\"100%\" height=\"500\" allow=\"autoplay; camera; microphone; clipboard-read; clipboard-write;\" frameborder=\"0\" allowfullscreen></iframe></div>"
      ],
      "text/plain": [
       "<IPython.core.display.HTML object>"
      ]
     },
     "metadata": {},
     "output_type": "display_data"
    },
    {
     "data": {
      "text/plain": []
     },
     "execution_count": 18,
     "metadata": {},
     "output_type": "execute_result"
    }
   ],
   "source": [
    "import gradio as gr\n",
    "\n",
    "def intent_chain_func(query):\n",
    "    ans = intent_chain.run(query)\n",
    "    return f\"The intent is {ans}\"\n",
    "\n",
    "demo = gr.Interface(\n",
    "    fn=intent_chain_func,\n",
    "    inputs=[\"text\"],\n",
    "    outputs=[\"text\"],\n",
    ")\n",
    "demo.launch()"
   ]
  },
  {
   "cell_type": "code",
   "execution_count": 21,
   "metadata": {},
   "outputs": [
    {
     "data": {
      "text/plain": [
       "AIMessage(content='GET PARKING SPOT', additional_kwargs={}, example=False)"
      ]
     },
     "execution_count": 21,
     "metadata": {},
     "output_type": "execute_result"
    }
   ],
   "source": [
    "from langchain.chat_models import AzureChatOpenAI\n",
    "\n",
    "chain = final_prompt | AzureChatOpenAI(\n",
    "    deployment_name=\"completion-gpt-35-turbo\",\n",
    "    model_name=\"gpt-35-turbo\",\n",
    "    temperature=0.0\n",
    ")\n",
    "\n",
    "chain.invoke(\n",
    "    {\"input\": \"Hey, I will reach office in 10mins, can you please help me find a parking slot?\", \n",
    "     \"list_of_intents\" : \",\".join(list_of_intents)}\n",
    ")"
   ]
  },
  {
   "cell_type": "code",
   "execution_count": 24,
   "metadata": {},
   "outputs": [
    {
     "ename": "TypeError",
     "evalue": "BaseTool.__call__() missing 1 required positional argument: 'tool_input'",
     "output_type": "error",
     "traceback": [
      "\u001b[1;31m---------------------------------------------------------------------------\u001b[0m",
      "\u001b[1;31mTypeError\u001b[0m                                 Traceback (most recent call last)",
      "Cell \u001b[1;32mIn[24], line 24\u001b[0m\n\u001b[0;32m     21\u001b[0m \u001b[39m    \u001b[39m\u001b[39m\"\"\"Searches the API for the query.\"\"\"\u001b[39;00m\n\u001b[0;32m     22\u001b[0m     \u001b[39mreturn\u001b[39;00m \u001b[39m\"\u001b[39m\u001b[39mResults\u001b[39m\u001b[39m\"\u001b[39m\n\u001b[1;32m---> 24\u001b[0m search_api()\n",
      "\u001b[1;31mTypeError\u001b[0m: BaseTool.__call__() missing 1 required positional argument: 'tool_input'"
     ]
    }
   ],
   "source": [
    "from langchain import LLMMathChain\n",
    "from langchain.llms import AzureOpenAI\n",
    "from langchain.agents import initialize_agent, Tool, AgentType, AgentExecutor\n",
    "from langchain.chat_models import ChatOpenAI, AzureChatOpenAI\n",
    "from typing import *\n",
    "from langchain.tools import BaseTool\n",
    "import os\n",
    "import chainlit as cl\n",
    "from chainlit.sync import run_sync\n",
    "from langchain.tools import Tool, tool\n",
    "\n",
    "from langchain.prompts import FewShotChatMessagePromptTemplate\n",
    "from langchain.prompts.chat import (\n",
    "    ChatPromptTemplate,\n",
    "    SystemMessagePromptTemplate,\n",
    "    HumanMessagePromptTemplate\n",
    ")\n",
    "\n",
    "@tool(\"search\", return_direct=True)\n",
    "def search_api(query: str) -> str:\n",
    "    \"\"\"Searches the API for the query.\"\"\"\n",
    "    return \"Results\"\n"
   ]
  },
  {
   "cell_type": "code",
   "execution_count": 35,
   "metadata": {},
   "outputs": [
    {
     "name": "stderr",
     "output_type": "stream",
     "text": [
      "2023-08-14 16:32:52.208 \n",
      "  \u001b[33m\u001b[1mWarning:\u001b[0m to view this Streamlit app on a browser, run it with the following\n",
      "  command:\n",
      "\n",
      "    streamlit run c:\\Users\\dsanghvi\\Work\\langchain\\langchain_env\\lib\\site-packages\\ipykernel_launcher.py [ARGUMENTS]\n",
      "2023-08-14 16:32:52.210 Session state does not function when running a script without `streamlit run`\n"
     ]
    },
    {
     "ename": "InvalidRequestError",
     "evalue": "Must provide an 'engine' or 'deployment_id' parameter to create a <class 'openai.api_resources.completion.Completion'>",
     "output_type": "error",
     "traceback": [
      "\u001b[1;31m---------------------------------------------------------------------------\u001b[0m",
      "\u001b[1;31mInvalidRequestError\u001b[0m                       Traceback (most recent call last)",
      "Cell \u001b[1;32mIn[35], line 36\u001b[0m\n\u001b[0;32m     33\u001b[0m user_input \u001b[39m=\u001b[39m get_text()\n\u001b[0;32m     35\u001b[0m \u001b[39mif\u001b[39;00m user_input:\n\u001b[1;32m---> 36\u001b[0m     output \u001b[39m=\u001b[39m chain\u001b[39m.\u001b[39;49mrun(\u001b[39minput\u001b[39;49m\u001b[39m=\u001b[39;49muser_input)\n\u001b[0;32m     38\u001b[0m     st\u001b[39m.\u001b[39msession_state\u001b[39m.\u001b[39mpast\u001b[39m.\u001b[39mappend(user_input)\n\u001b[0;32m     39\u001b[0m     st\u001b[39m.\u001b[39msession_state\u001b[39m.\u001b[39mgenerated\u001b[39m.\u001b[39mappend(output)\n",
      "File \u001b[1;32mc:\\Users\\dsanghvi\\Work\\langchain\\langchain_env\\lib\\site-packages\\langchain\\chains\\base.py:456\u001b[0m, in \u001b[0;36mChain.run\u001b[1;34m(self, callbacks, tags, metadata, *args, **kwargs)\u001b[0m\n\u001b[0;32m    451\u001b[0m     \u001b[39mreturn\u001b[39;00m \u001b[39mself\u001b[39m(args[\u001b[39m0\u001b[39m], callbacks\u001b[39m=\u001b[39mcallbacks, tags\u001b[39m=\u001b[39mtags, metadata\u001b[39m=\u001b[39mmetadata)[\n\u001b[0;32m    452\u001b[0m         _output_key\n\u001b[0;32m    453\u001b[0m     ]\n\u001b[0;32m    455\u001b[0m \u001b[39mif\u001b[39;00m kwargs \u001b[39mand\u001b[39;00m \u001b[39mnot\u001b[39;00m args:\n\u001b[1;32m--> 456\u001b[0m     \u001b[39mreturn\u001b[39;00m \u001b[39mself\u001b[39;49m(kwargs, callbacks\u001b[39m=\u001b[39;49mcallbacks, tags\u001b[39m=\u001b[39;49mtags, metadata\u001b[39m=\u001b[39;49mmetadata)[\n\u001b[0;32m    457\u001b[0m         _output_key\n\u001b[0;32m    458\u001b[0m     ]\n\u001b[0;32m    460\u001b[0m \u001b[39mif\u001b[39;00m \u001b[39mnot\u001b[39;00m kwargs \u001b[39mand\u001b[39;00m \u001b[39mnot\u001b[39;00m args:\n\u001b[0;32m    461\u001b[0m     \u001b[39mraise\u001b[39;00m \u001b[39mValueError\u001b[39;00m(\n\u001b[0;32m    462\u001b[0m         \u001b[39m\"\u001b[39m\u001b[39m`run` supported with either positional arguments or keyword arguments,\u001b[39m\u001b[39m\"\u001b[39m\n\u001b[0;32m    463\u001b[0m         \u001b[39m\"\u001b[39m\u001b[39m but none were provided.\u001b[39m\u001b[39m\"\u001b[39m\n\u001b[0;32m    464\u001b[0m     )\n",
      "File \u001b[1;32mc:\\Users\\dsanghvi\\Work\\langchain\\langchain_env\\lib\\site-packages\\langchain\\chains\\base.py:258\u001b[0m, in \u001b[0;36mChain.__call__\u001b[1;34m(self, inputs, return_only_outputs, callbacks, tags, metadata, include_run_info)\u001b[0m\n\u001b[0;32m    256\u001b[0m \u001b[39mexcept\u001b[39;00m (\u001b[39mKeyboardInterrupt\u001b[39;00m, \u001b[39mException\u001b[39;00m) \u001b[39mas\u001b[39;00m e:\n\u001b[0;32m    257\u001b[0m     run_manager\u001b[39m.\u001b[39mon_chain_error(e)\n\u001b[1;32m--> 258\u001b[0m     \u001b[39mraise\u001b[39;00m e\n\u001b[0;32m    259\u001b[0m run_manager\u001b[39m.\u001b[39mon_chain_end(outputs)\n\u001b[0;32m    260\u001b[0m final_outputs: Dict[\u001b[39mstr\u001b[39m, Any] \u001b[39m=\u001b[39m \u001b[39mself\u001b[39m\u001b[39m.\u001b[39mprep_outputs(\n\u001b[0;32m    261\u001b[0m     inputs, outputs, return_only_outputs\n\u001b[0;32m    262\u001b[0m )\n",
      "File \u001b[1;32mc:\\Users\\dsanghvi\\Work\\langchain\\langchain_env\\lib\\site-packages\\langchain\\chains\\base.py:252\u001b[0m, in \u001b[0;36mChain.__call__\u001b[1;34m(self, inputs, return_only_outputs, callbacks, tags, metadata, include_run_info)\u001b[0m\n\u001b[0;32m    246\u001b[0m run_manager \u001b[39m=\u001b[39m callback_manager\u001b[39m.\u001b[39mon_chain_start(\n\u001b[0;32m    247\u001b[0m     dumpd(\u001b[39mself\u001b[39m),\n\u001b[0;32m    248\u001b[0m     inputs,\n\u001b[0;32m    249\u001b[0m )\n\u001b[0;32m    250\u001b[0m \u001b[39mtry\u001b[39;00m:\n\u001b[0;32m    251\u001b[0m     outputs \u001b[39m=\u001b[39m (\n\u001b[1;32m--> 252\u001b[0m         \u001b[39mself\u001b[39;49m\u001b[39m.\u001b[39;49m_call(inputs, run_manager\u001b[39m=\u001b[39;49mrun_manager)\n\u001b[0;32m    253\u001b[0m         \u001b[39mif\u001b[39;00m new_arg_supported\n\u001b[0;32m    254\u001b[0m         \u001b[39melse\u001b[39;00m \u001b[39mself\u001b[39m\u001b[39m.\u001b[39m_call(inputs)\n\u001b[0;32m    255\u001b[0m     )\n\u001b[0;32m    256\u001b[0m \u001b[39mexcept\u001b[39;00m (\u001b[39mKeyboardInterrupt\u001b[39;00m, \u001b[39mException\u001b[39;00m) \u001b[39mas\u001b[39;00m e:\n\u001b[0;32m    257\u001b[0m     run_manager\u001b[39m.\u001b[39mon_chain_error(e)\n",
      "File \u001b[1;32mc:\\Users\\dsanghvi\\Work\\langchain\\langchain_env\\lib\\site-packages\\langchain\\chains\\llm.py:92\u001b[0m, in \u001b[0;36mLLMChain._call\u001b[1;34m(self, inputs, run_manager)\u001b[0m\n\u001b[0;32m     87\u001b[0m \u001b[39mdef\u001b[39;00m \u001b[39m_call\u001b[39m(\n\u001b[0;32m     88\u001b[0m     \u001b[39mself\u001b[39m,\n\u001b[0;32m     89\u001b[0m     inputs: Dict[\u001b[39mstr\u001b[39m, Any],\n\u001b[0;32m     90\u001b[0m     run_manager: Optional[CallbackManagerForChainRun] \u001b[39m=\u001b[39m \u001b[39mNone\u001b[39;00m,\n\u001b[0;32m     91\u001b[0m ) \u001b[39m-\u001b[39m\u001b[39m>\u001b[39m Dict[\u001b[39mstr\u001b[39m, \u001b[39mstr\u001b[39m]:\n\u001b[1;32m---> 92\u001b[0m     response \u001b[39m=\u001b[39m \u001b[39mself\u001b[39;49m\u001b[39m.\u001b[39;49mgenerate([inputs], run_manager\u001b[39m=\u001b[39;49mrun_manager)\n\u001b[0;32m     93\u001b[0m     \u001b[39mreturn\u001b[39;00m \u001b[39mself\u001b[39m\u001b[39m.\u001b[39mcreate_outputs(response)[\u001b[39m0\u001b[39m]\n",
      "File \u001b[1;32mc:\\Users\\dsanghvi\\Work\\langchain\\langchain_env\\lib\\site-packages\\langchain\\chains\\llm.py:102\u001b[0m, in \u001b[0;36mLLMChain.generate\u001b[1;34m(self, input_list, run_manager)\u001b[0m\n\u001b[0;32m    100\u001b[0m \u001b[39m\u001b[39m\u001b[39m\"\"\"Generate LLM result from inputs.\"\"\"\u001b[39;00m\n\u001b[0;32m    101\u001b[0m prompts, stop \u001b[39m=\u001b[39m \u001b[39mself\u001b[39m\u001b[39m.\u001b[39mprep_prompts(input_list, run_manager\u001b[39m=\u001b[39mrun_manager)\n\u001b[1;32m--> 102\u001b[0m \u001b[39mreturn\u001b[39;00m \u001b[39mself\u001b[39m\u001b[39m.\u001b[39mllm\u001b[39m.\u001b[39mgenerate_prompt(\n\u001b[0;32m    103\u001b[0m     prompts,\n\u001b[0;32m    104\u001b[0m     stop,\n\u001b[0;32m    105\u001b[0m     callbacks\u001b[39m=\u001b[39mrun_manager\u001b[39m.\u001b[39mget_child() \u001b[39mif\u001b[39;00m run_manager \u001b[39melse\u001b[39;00m \u001b[39mNone\u001b[39;00m,\n\u001b[0;32m    106\u001b[0m     \u001b[39m*\u001b[39m\u001b[39m*\u001b[39m\u001b[39mself\u001b[39m\u001b[39m.\u001b[39mllm_kwargs,\n\u001b[0;32m    107\u001b[0m )\n",
      "File \u001b[1;32mc:\\Users\\dsanghvi\\Work\\langchain\\langchain_env\\lib\\site-packages\\langchain\\llms\\base.py:455\u001b[0m, in \u001b[0;36mBaseLLM.generate_prompt\u001b[1;34m(self, prompts, stop, callbacks, **kwargs)\u001b[0m\n\u001b[0;32m    447\u001b[0m \u001b[39mdef\u001b[39;00m \u001b[39mgenerate_prompt\u001b[39m(\n\u001b[0;32m    448\u001b[0m     \u001b[39mself\u001b[39m,\n\u001b[0;32m    449\u001b[0m     prompts: List[PromptValue],\n\u001b[1;32m   (...)\u001b[0m\n\u001b[0;32m    452\u001b[0m     \u001b[39m*\u001b[39m\u001b[39m*\u001b[39mkwargs: Any,\n\u001b[0;32m    453\u001b[0m ) \u001b[39m-\u001b[39m\u001b[39m>\u001b[39m LLMResult:\n\u001b[0;32m    454\u001b[0m     prompt_strings \u001b[39m=\u001b[39m [p\u001b[39m.\u001b[39mto_string() \u001b[39mfor\u001b[39;00m p \u001b[39min\u001b[39;00m prompts]\n\u001b[1;32m--> 455\u001b[0m     \u001b[39mreturn\u001b[39;00m \u001b[39mself\u001b[39m\u001b[39m.\u001b[39mgenerate(prompt_strings, stop\u001b[39m=\u001b[39mstop, callbacks\u001b[39m=\u001b[39mcallbacks, \u001b[39m*\u001b[39m\u001b[39m*\u001b[39mkwargs)\n",
      "File \u001b[1;32mc:\\Users\\dsanghvi\\Work\\langchain\\langchain_env\\lib\\site-packages\\langchain\\llms\\base.py:586\u001b[0m, in \u001b[0;36mBaseLLM.generate\u001b[1;34m(self, prompts, stop, callbacks, tags, metadata, **kwargs)\u001b[0m\n\u001b[0;32m    577\u001b[0m         \u001b[39mraise\u001b[39;00m \u001b[39mValueError\u001b[39;00m(\n\u001b[0;32m    578\u001b[0m             \u001b[39m\"\u001b[39m\u001b[39mAsked to cache, but no cache found at `langchain.cache`.\u001b[39m\u001b[39m\"\u001b[39m\n\u001b[0;32m    579\u001b[0m         )\n\u001b[0;32m    580\u001b[0m     run_managers \u001b[39m=\u001b[39m [\n\u001b[0;32m    581\u001b[0m         callback_manager\u001b[39m.\u001b[39mon_llm_start(\n\u001b[0;32m    582\u001b[0m             dumpd(\u001b[39mself\u001b[39m), [prompt], invocation_params\u001b[39m=\u001b[39mparams, options\u001b[39m=\u001b[39moptions\n\u001b[0;32m    583\u001b[0m         )[\u001b[39m0\u001b[39m]\n\u001b[0;32m    584\u001b[0m         \u001b[39mfor\u001b[39;00m callback_manager, prompt \u001b[39min\u001b[39;00m \u001b[39mzip\u001b[39m(callback_managers, prompts)\n\u001b[0;32m    585\u001b[0m     ]\n\u001b[1;32m--> 586\u001b[0m     output \u001b[39m=\u001b[39m \u001b[39mself\u001b[39m\u001b[39m.\u001b[39m_generate_helper(\n\u001b[0;32m    587\u001b[0m         prompts, stop, run_managers, \u001b[39mbool\u001b[39m(new_arg_supported), \u001b[39m*\u001b[39m\u001b[39m*\u001b[39mkwargs\n\u001b[0;32m    588\u001b[0m     )\n\u001b[0;32m    589\u001b[0m     \u001b[39mreturn\u001b[39;00m output\n\u001b[0;32m    590\u001b[0m \u001b[39mif\u001b[39;00m \u001b[39mlen\u001b[39m(missing_prompts) \u001b[39m>\u001b[39m \u001b[39m0\u001b[39m:\n",
      "File \u001b[1;32mc:\\Users\\dsanghvi\\Work\\langchain\\langchain_env\\lib\\site-packages\\langchain\\llms\\base.py:492\u001b[0m, in \u001b[0;36mBaseLLM._generate_helper\u001b[1;34m(self, prompts, stop, run_managers, new_arg_supported, **kwargs)\u001b[0m\n\u001b[0;32m    490\u001b[0m     \u001b[39mfor\u001b[39;00m run_manager \u001b[39min\u001b[39;00m run_managers:\n\u001b[0;32m    491\u001b[0m         run_manager\u001b[39m.\u001b[39mon_llm_error(e)\n\u001b[1;32m--> 492\u001b[0m     \u001b[39mraise\u001b[39;00m e\n\u001b[0;32m    493\u001b[0m flattened_outputs \u001b[39m=\u001b[39m output\u001b[39m.\u001b[39mflatten()\n\u001b[0;32m    494\u001b[0m \u001b[39mfor\u001b[39;00m manager, flattened_output \u001b[39min\u001b[39;00m \u001b[39mzip\u001b[39m(run_managers, flattened_outputs):\n",
      "File \u001b[1;32mc:\\Users\\dsanghvi\\Work\\langchain\\langchain_env\\lib\\site-packages\\langchain\\llms\\base.py:479\u001b[0m, in \u001b[0;36mBaseLLM._generate_helper\u001b[1;34m(self, prompts, stop, run_managers, new_arg_supported, **kwargs)\u001b[0m\n\u001b[0;32m    469\u001b[0m \u001b[39mdef\u001b[39;00m \u001b[39m_generate_helper\u001b[39m(\n\u001b[0;32m    470\u001b[0m     \u001b[39mself\u001b[39m,\n\u001b[0;32m    471\u001b[0m     prompts: List[\u001b[39mstr\u001b[39m],\n\u001b[1;32m   (...)\u001b[0m\n\u001b[0;32m    475\u001b[0m     \u001b[39m*\u001b[39m\u001b[39m*\u001b[39mkwargs: Any,\n\u001b[0;32m    476\u001b[0m ) \u001b[39m-\u001b[39m\u001b[39m>\u001b[39m LLMResult:\n\u001b[0;32m    477\u001b[0m     \u001b[39mtry\u001b[39;00m:\n\u001b[0;32m    478\u001b[0m         output \u001b[39m=\u001b[39m (\n\u001b[1;32m--> 479\u001b[0m             \u001b[39mself\u001b[39m\u001b[39m.\u001b[39m_generate(\n\u001b[0;32m    480\u001b[0m                 prompts,\n\u001b[0;32m    481\u001b[0m                 stop\u001b[39m=\u001b[39mstop,\n\u001b[0;32m    482\u001b[0m                 \u001b[39m# TODO: support multiple run managers\u001b[39;00m\n\u001b[0;32m    483\u001b[0m                 run_manager\u001b[39m=\u001b[39mrun_managers[\u001b[39m0\u001b[39m] \u001b[39mif\u001b[39;00m run_managers \u001b[39melse\u001b[39;00m \u001b[39mNone\u001b[39;00m,\n\u001b[0;32m    484\u001b[0m                 \u001b[39m*\u001b[39m\u001b[39m*\u001b[39mkwargs,\n\u001b[0;32m    485\u001b[0m             )\n\u001b[0;32m    486\u001b[0m             \u001b[39mif\u001b[39;00m new_arg_supported\n\u001b[0;32m    487\u001b[0m             \u001b[39melse\u001b[39;00m \u001b[39mself\u001b[39m\u001b[39m.\u001b[39m_generate(prompts, stop\u001b[39m=\u001b[39mstop)\n\u001b[0;32m    488\u001b[0m         )\n\u001b[0;32m    489\u001b[0m     \u001b[39mexcept\u001b[39;00m (\u001b[39mKeyboardInterrupt\u001b[39;00m, \u001b[39mException\u001b[39;00m) \u001b[39mas\u001b[39;00m e:\n\u001b[0;32m    490\u001b[0m         \u001b[39mfor\u001b[39;00m run_manager \u001b[39min\u001b[39;00m run_managers:\n",
      "File \u001b[1;32mc:\\Users\\dsanghvi\\Work\\langchain\\langchain_env\\lib\\site-packages\\langchain\\llms\\openai.py:384\u001b[0m, in \u001b[0;36mBaseOpenAI._generate\u001b[1;34m(self, prompts, stop, run_manager, **kwargs)\u001b[0m\n\u001b[0;32m    372\u001b[0m     choices\u001b[39m.\u001b[39mappend(\n\u001b[0;32m    373\u001b[0m         {\n\u001b[0;32m    374\u001b[0m             \u001b[39m\"\u001b[39m\u001b[39mtext\u001b[39m\u001b[39m\"\u001b[39m: generation\u001b[39m.\u001b[39mtext,\n\u001b[1;32m   (...)\u001b[0m\n\u001b[0;32m    381\u001b[0m         }\n\u001b[0;32m    382\u001b[0m     )\n\u001b[0;32m    383\u001b[0m \u001b[39melse\u001b[39;00m:\n\u001b[1;32m--> 384\u001b[0m     response \u001b[39m=\u001b[39m completion_with_retry(\n\u001b[0;32m    385\u001b[0m         \u001b[39mself\u001b[39m, prompt\u001b[39m=\u001b[39m_prompts, run_manager\u001b[39m=\u001b[39mrun_manager, \u001b[39m*\u001b[39m\u001b[39m*\u001b[39mparams\n\u001b[0;32m    386\u001b[0m     )\n\u001b[0;32m    387\u001b[0m     choices\u001b[39m.\u001b[39mextend(response[\u001b[39m\"\u001b[39m\u001b[39mchoices\u001b[39m\u001b[39m\"\u001b[39m])\n\u001b[0;32m    388\u001b[0m     update_token_usage(_keys, response, token_usage)\n",
      "File \u001b[1;32mc:\\Users\\dsanghvi\\Work\\langchain\\langchain_env\\lib\\site-packages\\langchain\\llms\\openai.py:116\u001b[0m, in \u001b[0;36mcompletion_with_retry\u001b[1;34m(llm, run_manager, **kwargs)\u001b[0m\n\u001b[0;32m    112\u001b[0m \u001b[39m@retry_decorator\u001b[39m\n\u001b[0;32m    113\u001b[0m \u001b[39mdef\u001b[39;00m \u001b[39m_completion_with_retry\u001b[39m(\u001b[39m*\u001b[39m\u001b[39m*\u001b[39mkwargs: Any) \u001b[39m-\u001b[39m\u001b[39m>\u001b[39m Any:\n\u001b[0;32m    114\u001b[0m     \u001b[39mreturn\u001b[39;00m llm\u001b[39m.\u001b[39mclient\u001b[39m.\u001b[39mcreate(\u001b[39m*\u001b[39m\u001b[39m*\u001b[39mkwargs)\n\u001b[1;32m--> 116\u001b[0m \u001b[39mreturn\u001b[39;00m _completion_with_retry(\u001b[39m*\u001b[39m\u001b[39m*\u001b[39mkwargs)\n",
      "File \u001b[1;32mc:\\Users\\dsanghvi\\Work\\langchain\\langchain_env\\lib\\site-packages\\tenacity\\__init__.py:289\u001b[0m, in \u001b[0;36mBaseRetrying.wraps.<locals>.wrapped_f\u001b[1;34m(*args, **kw)\u001b[0m\n\u001b[0;32m    287\u001b[0m \u001b[39m@functools\u001b[39m\u001b[39m.\u001b[39mwraps(f)\n\u001b[0;32m    288\u001b[0m \u001b[39mdef\u001b[39;00m \u001b[39mwrapped_f\u001b[39m(\u001b[39m*\u001b[39margs: t\u001b[39m.\u001b[39mAny, \u001b[39m*\u001b[39m\u001b[39m*\u001b[39mkw: t\u001b[39m.\u001b[39mAny) \u001b[39m-\u001b[39m\u001b[39m>\u001b[39m t\u001b[39m.\u001b[39mAny:\n\u001b[1;32m--> 289\u001b[0m     \u001b[39mreturn\u001b[39;00m \u001b[39mself\u001b[39m(f, \u001b[39m*\u001b[39margs, \u001b[39m*\u001b[39m\u001b[39m*\u001b[39mkw)\n",
      "File \u001b[1;32mc:\\Users\\dsanghvi\\Work\\langchain\\langchain_env\\lib\\site-packages\\tenacity\\__init__.py:379\u001b[0m, in \u001b[0;36mRetrying.__call__\u001b[1;34m(self, fn, *args, **kwargs)\u001b[0m\n\u001b[0;32m    377\u001b[0m retry_state \u001b[39m=\u001b[39m RetryCallState(retry_object\u001b[39m=\u001b[39m\u001b[39mself\u001b[39m, fn\u001b[39m=\u001b[39mfn, args\u001b[39m=\u001b[39margs, kwargs\u001b[39m=\u001b[39mkwargs)\n\u001b[0;32m    378\u001b[0m \u001b[39mwhile\u001b[39;00m \u001b[39mTrue\u001b[39;00m:\n\u001b[1;32m--> 379\u001b[0m     do \u001b[39m=\u001b[39m \u001b[39mself\u001b[39;49m\u001b[39m.\u001b[39;49miter(retry_state\u001b[39m=\u001b[39;49mretry_state)\n\u001b[0;32m    380\u001b[0m     \u001b[39mif\u001b[39;00m \u001b[39misinstance\u001b[39m(do, DoAttempt):\n\u001b[0;32m    381\u001b[0m         \u001b[39mtry\u001b[39;00m:\n",
      "File \u001b[1;32mc:\\Users\\dsanghvi\\Work\\langchain\\langchain_env\\lib\\site-packages\\tenacity\\__init__.py:314\u001b[0m, in \u001b[0;36mBaseRetrying.iter\u001b[1;34m(self, retry_state)\u001b[0m\n\u001b[0;32m    312\u001b[0m is_explicit_retry \u001b[39m=\u001b[39m fut\u001b[39m.\u001b[39mfailed \u001b[39mand\u001b[39;00m \u001b[39misinstance\u001b[39m(fut\u001b[39m.\u001b[39mexception(), TryAgain)\n\u001b[0;32m    313\u001b[0m \u001b[39mif\u001b[39;00m \u001b[39mnot\u001b[39;00m (is_explicit_retry \u001b[39mor\u001b[39;00m \u001b[39mself\u001b[39m\u001b[39m.\u001b[39mretry(retry_state)):\n\u001b[1;32m--> 314\u001b[0m     \u001b[39mreturn\u001b[39;00m fut\u001b[39m.\u001b[39;49mresult()\n\u001b[0;32m    316\u001b[0m \u001b[39mif\u001b[39;00m \u001b[39mself\u001b[39m\u001b[39m.\u001b[39mafter \u001b[39mis\u001b[39;00m \u001b[39mnot\u001b[39;00m \u001b[39mNone\u001b[39;00m:\n\u001b[0;32m    317\u001b[0m     \u001b[39mself\u001b[39m\u001b[39m.\u001b[39mafter(retry_state)\n",
      "File \u001b[1;32mC:\\Program Files\\WindowsApps\\PythonSoftwareFoundation.Python.3.10_3.10.3056.0_x64__qbz5n2kfra8p0\\lib\\concurrent\\futures\\_base.py:451\u001b[0m, in \u001b[0;36mFuture.result\u001b[1;34m(self, timeout)\u001b[0m\n\u001b[0;32m    449\u001b[0m     \u001b[39mraise\u001b[39;00m CancelledError()\n\u001b[0;32m    450\u001b[0m \u001b[39melif\u001b[39;00m \u001b[39mself\u001b[39m\u001b[39m.\u001b[39m_state \u001b[39m==\u001b[39m FINISHED:\n\u001b[1;32m--> 451\u001b[0m     \u001b[39mreturn\u001b[39;00m \u001b[39mself\u001b[39;49m\u001b[39m.\u001b[39;49m__get_result()\n\u001b[0;32m    453\u001b[0m \u001b[39mself\u001b[39m\u001b[39m.\u001b[39m_condition\u001b[39m.\u001b[39mwait(timeout)\n\u001b[0;32m    455\u001b[0m \u001b[39mif\u001b[39;00m \u001b[39mself\u001b[39m\u001b[39m.\u001b[39m_state \u001b[39min\u001b[39;00m [CANCELLED, CANCELLED_AND_NOTIFIED]:\n",
      "File \u001b[1;32mC:\\Program Files\\WindowsApps\\PythonSoftwareFoundation.Python.3.10_3.10.3056.0_x64__qbz5n2kfra8p0\\lib\\concurrent\\futures\\_base.py:403\u001b[0m, in \u001b[0;36mFuture.__get_result\u001b[1;34m(self)\u001b[0m\n\u001b[0;32m    401\u001b[0m \u001b[39mif\u001b[39;00m \u001b[39mself\u001b[39m\u001b[39m.\u001b[39m_exception:\n\u001b[0;32m    402\u001b[0m     \u001b[39mtry\u001b[39;00m:\n\u001b[1;32m--> 403\u001b[0m         \u001b[39mraise\u001b[39;00m \u001b[39mself\u001b[39m\u001b[39m.\u001b[39m_exception\n\u001b[0;32m    404\u001b[0m     \u001b[39mfinally\u001b[39;00m:\n\u001b[0;32m    405\u001b[0m         \u001b[39m# Break a reference cycle with the exception in self._exception\u001b[39;00m\n\u001b[0;32m    406\u001b[0m         \u001b[39mself\u001b[39m \u001b[39m=\u001b[39m \u001b[39mNone\u001b[39;00m\n",
      "File \u001b[1;32mc:\\Users\\dsanghvi\\Work\\langchain\\langchain_env\\lib\\site-packages\\tenacity\\__init__.py:382\u001b[0m, in \u001b[0;36mRetrying.__call__\u001b[1;34m(self, fn, *args, **kwargs)\u001b[0m\n\u001b[0;32m    380\u001b[0m \u001b[39mif\u001b[39;00m \u001b[39misinstance\u001b[39m(do, DoAttempt):\n\u001b[0;32m    381\u001b[0m     \u001b[39mtry\u001b[39;00m:\n\u001b[1;32m--> 382\u001b[0m         result \u001b[39m=\u001b[39m fn(\u001b[39m*\u001b[39margs, \u001b[39m*\u001b[39m\u001b[39m*\u001b[39mkwargs)\n\u001b[0;32m    383\u001b[0m     \u001b[39mexcept\u001b[39;00m \u001b[39mBaseException\u001b[39;00m:  \u001b[39m# noqa: B902\u001b[39;00m\n\u001b[0;32m    384\u001b[0m         retry_state\u001b[39m.\u001b[39mset_exception(sys\u001b[39m.\u001b[39mexc_info())  \u001b[39m# type: ignore[arg-type]\u001b[39;00m\n",
      "File \u001b[1;32mc:\\Users\\dsanghvi\\Work\\langchain\\langchain_env\\lib\\site-packages\\langchain\\llms\\openai.py:114\u001b[0m, in \u001b[0;36mcompletion_with_retry.<locals>._completion_with_retry\u001b[1;34m(**kwargs)\u001b[0m\n\u001b[0;32m    112\u001b[0m \u001b[39m@retry_decorator\u001b[39m\n\u001b[0;32m    113\u001b[0m \u001b[39mdef\u001b[39;00m \u001b[39m_completion_with_retry\u001b[39m(\u001b[39m*\u001b[39m\u001b[39m*\u001b[39mkwargs: Any) \u001b[39m-\u001b[39m\u001b[39m>\u001b[39m Any:\n\u001b[1;32m--> 114\u001b[0m     \u001b[39mreturn\u001b[39;00m llm\u001b[39m.\u001b[39mclient\u001b[39m.\u001b[39mcreate(\u001b[39m*\u001b[39m\u001b[39m*\u001b[39mkwargs)\n",
      "File \u001b[1;32mc:\\Users\\dsanghvi\\Work\\langchain\\langchain_env\\lib\\site-packages\\openai\\api_resources\\completion.py:25\u001b[0m, in \u001b[0;36mCompletion.create\u001b[1;34m(cls, *args, **kwargs)\u001b[0m\n\u001b[0;32m     23\u001b[0m \u001b[39mwhile\u001b[39;00m \u001b[39mTrue\u001b[39;00m:\n\u001b[0;32m     24\u001b[0m     \u001b[39mtry\u001b[39;00m:\n\u001b[1;32m---> 25\u001b[0m         \u001b[39mreturn\u001b[39;00m \u001b[39msuper\u001b[39m()\u001b[39m.\u001b[39mcreate(\u001b[39m*\u001b[39margs, \u001b[39m*\u001b[39m\u001b[39m*\u001b[39mkwargs)\n\u001b[0;32m     26\u001b[0m     \u001b[39mexcept\u001b[39;00m TryAgain \u001b[39mas\u001b[39;00m e:\n\u001b[0;32m     27\u001b[0m         \u001b[39mif\u001b[39;00m timeout \u001b[39mis\u001b[39;00m \u001b[39mnot\u001b[39;00m \u001b[39mNone\u001b[39;00m \u001b[39mand\u001b[39;00m time\u001b[39m.\u001b[39mtime() \u001b[39m>\u001b[39m start \u001b[39m+\u001b[39m timeout:\n",
      "File \u001b[1;32mc:\\Users\\dsanghvi\\Work\\langchain\\langchain_env\\lib\\site-packages\\openai\\api_resources\\abstract\\engine_api_resource.py:149\u001b[0m, in \u001b[0;36mEngineAPIResource.create\u001b[1;34m(cls, api_key, api_base, api_type, request_id, api_version, organization, **params)\u001b[0m\n\u001b[0;32m    127\u001b[0m \u001b[39m@classmethod\u001b[39m\n\u001b[0;32m    128\u001b[0m \u001b[39mdef\u001b[39;00m \u001b[39mcreate\u001b[39m(\n\u001b[0;32m    129\u001b[0m     \u001b[39mcls\u001b[39m,\n\u001b[1;32m   (...)\u001b[0m\n\u001b[0;32m    136\u001b[0m     \u001b[39m*\u001b[39m\u001b[39m*\u001b[39mparams,\n\u001b[0;32m    137\u001b[0m ):\n\u001b[0;32m    138\u001b[0m     (\n\u001b[0;32m    139\u001b[0m         deployment_id,\n\u001b[0;32m    140\u001b[0m         engine,\n\u001b[0;32m    141\u001b[0m         timeout,\n\u001b[0;32m    142\u001b[0m         stream,\n\u001b[0;32m    143\u001b[0m         headers,\n\u001b[0;32m    144\u001b[0m         request_timeout,\n\u001b[0;32m    145\u001b[0m         typed_api_type,\n\u001b[0;32m    146\u001b[0m         requestor,\n\u001b[0;32m    147\u001b[0m         url,\n\u001b[0;32m    148\u001b[0m         params,\n\u001b[1;32m--> 149\u001b[0m     ) \u001b[39m=\u001b[39m \u001b[39mcls\u001b[39m\u001b[39m.\u001b[39m__prepare_create_request(\n\u001b[0;32m    150\u001b[0m         api_key, api_base, api_type, api_version, organization, \u001b[39m*\u001b[39m\u001b[39m*\u001b[39mparams\n\u001b[0;32m    151\u001b[0m     )\n\u001b[0;32m    153\u001b[0m     response, _, api_key \u001b[39m=\u001b[39m requestor\u001b[39m.\u001b[39mrequest(\n\u001b[0;32m    154\u001b[0m         \u001b[39m\"\u001b[39m\u001b[39mpost\u001b[39m\u001b[39m\"\u001b[39m,\n\u001b[0;32m    155\u001b[0m         url,\n\u001b[1;32m   (...)\u001b[0m\n\u001b[0;32m    160\u001b[0m         request_timeout\u001b[39m=\u001b[39mrequest_timeout,\n\u001b[0;32m    161\u001b[0m     )\n\u001b[0;32m    163\u001b[0m     \u001b[39mif\u001b[39;00m stream:\n\u001b[0;32m    164\u001b[0m         \u001b[39m# must be an iterator\u001b[39;00m\n",
      "File \u001b[1;32mc:\\Users\\dsanghvi\\Work\\langchain\\langchain_env\\lib\\site-packages\\openai\\api_resources\\abstract\\engine_api_resource.py:83\u001b[0m, in \u001b[0;36mEngineAPIResource.__prepare_create_request\u001b[1;34m(cls, api_key, api_base, api_type, api_version, organization, **params)\u001b[0m\n\u001b[0;32m     81\u001b[0m \u001b[39mif\u001b[39;00m typed_api_type \u001b[39min\u001b[39;00m (util\u001b[39m.\u001b[39mApiType\u001b[39m.\u001b[39mAZURE, util\u001b[39m.\u001b[39mApiType\u001b[39m.\u001b[39mAZURE_AD):\n\u001b[0;32m     82\u001b[0m     \u001b[39mif\u001b[39;00m deployment_id \u001b[39mis\u001b[39;00m \u001b[39mNone\u001b[39;00m \u001b[39mand\u001b[39;00m engine \u001b[39mis\u001b[39;00m \u001b[39mNone\u001b[39;00m:\n\u001b[1;32m---> 83\u001b[0m         \u001b[39mraise\u001b[39;00m error\u001b[39m.\u001b[39mInvalidRequestError(\n\u001b[0;32m     84\u001b[0m             \u001b[39m\"\u001b[39m\u001b[39mMust provide an \u001b[39m\u001b[39m'\u001b[39m\u001b[39mengine\u001b[39m\u001b[39m'\u001b[39m\u001b[39m or \u001b[39m\u001b[39m'\u001b[39m\u001b[39mdeployment_id\u001b[39m\u001b[39m'\u001b[39m\u001b[39m parameter to create a \u001b[39m\u001b[39m%s\u001b[39;00m\u001b[39m\"\u001b[39m\n\u001b[0;32m     85\u001b[0m             \u001b[39m%\u001b[39m \u001b[39mcls\u001b[39m,\n\u001b[0;32m     86\u001b[0m             \u001b[39m\"\u001b[39m\u001b[39mengine\u001b[39m\u001b[39m\"\u001b[39m,\n\u001b[0;32m     87\u001b[0m         )\n\u001b[0;32m     88\u001b[0m \u001b[39melse\u001b[39;00m:\n\u001b[0;32m     89\u001b[0m     \u001b[39mif\u001b[39;00m model \u001b[39mis\u001b[39;00m \u001b[39mNone\u001b[39;00m \u001b[39mand\u001b[39;00m engine \u001b[39mis\u001b[39;00m \u001b[39mNone\u001b[39;00m:\n",
      "\u001b[1;31mInvalidRequestError\u001b[0m: Must provide an 'engine' or 'deployment_id' parameter to create a <class 'openai.api_resources.completion.Completion'>"
     ]
    },
    {
     "ename": "",
     "evalue": "",
     "output_type": "error",
     "traceback": [
      "\u001b[1;31mThe Kernel crashed while executing code in the the current cell or a previous cell. Please review the code in the cell(s) to identify a possible cause of the failure. Click <a href='https://aka.ms/vscodeJupyterKernelCrash'>here</a> for more info. View Jupyter <a href='command:jupyter.viewOutput'>log</a> for further details."
     ]
    }
   ],
   "source": []
  },
  {
   "cell_type": "code",
   "execution_count": null,
   "metadata": {},
   "outputs": [],
   "source": []
  }
 ],
 "metadata": {
  "kernelspec": {
   "display_name": "langchain_env",
   "language": "python",
   "name": "python3"
  },
  "language_info": {
   "codemirror_mode": {
    "name": "ipython",
    "version": 3
   },
   "file_extension": ".py",
   "mimetype": "text/x-python",
   "name": "python",
   "nbconvert_exporter": "python",
   "pygments_lexer": "ipython3",
   "version": "3.10.11"
  },
  "orig_nbformat": 4
 },
 "nbformat": 4,
 "nbformat_minor": 2
}
