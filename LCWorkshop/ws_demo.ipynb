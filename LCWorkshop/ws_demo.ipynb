{
 "cells": [
  {
   "cell_type": "markdown",
   "metadata": {},
   "source": [
    "## Setting up the env variables"
   ]
  },
  {
   "cell_type": "code",
   "execution_count": 1,
   "metadata": {},
   "outputs": [],
   "source": [
    "# Import Azure OpenAI\n",
    "from langchain.llms import AzureOpenAI\n",
    "from langchain.chains import LLMChain\n",
    "from dotenv import load_dotenv\n",
    "load_dotenv(\"../../.env\")\n",
    "from langchain.chat_models import AzureChatOpenAI"
   ]
  },
  {
   "cell_type": "markdown",
   "metadata": {},
   "source": [
    "## Intent chain - (Intent Skill)"
   ]
  },
  {
   "cell_type": "code",
   "execution_count": 2,
   "metadata": {},
   "outputs": [],
   "source": [
    "from langchain.schema import BaseOutputParser\n",
    "from langchain.prompts import PromptTemplate\n",
    "\n",
    "class IntentOutputParser(BaseOutputParser):\n",
    "    \"\"\"Parse the output of an LLM call to a comma-separated list.\"\"\"\n",
    "\n",
    "    def parse(self, text: str):\n",
    "        \"\"\"Parse the output of an LLM call.\"\"\"\n",
    "        intents = [\"GET PARKING SPOT\", \"GET REGISTRATION DETAILS\"]\n",
    "        for i in intents:\n",
    "            if i in text:\n",
    "                return i\n",
    "        return \"INTENT UNCLEAR\"\n",
    "\n",
    "\n",
    "intents = [\"GET PARKING SPOT\", \"GET REGISTRATION DETAILS\"]\n",
    "prompt_template = PromptTemplate.from_template(\"\"\"You are a helpful assistant that identifies the intent of a user's query. \n",
    "There are 2 possible intents - GET PARKING SPOT, GET REGISTRATION DETAILS. \n",
    "Choose the most appropriate intent based on the human's query.\n",
    "What is the intent for the following ask? \n",
    "{ask}\n",
    "\"\"\")\n",
    "\n",
    "llm = AzureOpenAI(\n",
    "    deployment_name=\"completion-gpt-35-turbo\",\n",
    "    model_name=\"gpt-35-turbo\",\n",
    "    temperature=0.0\n",
    ")\n",
    "intent_chain = LLMChain(llm=llm, prompt=prompt_template, output_key=\"intent\", output_parser=IntentOutputParser(), verbose=True)"
   ]
  },
  {
   "cell_type": "code",
   "execution_count": 3,
   "metadata": {},
   "outputs": [
    {
     "name": "stdout",
     "output_type": "stream",
     "text": [
      "\n",
      "\n",
      "\u001b[1m> Entering new LLMChain chain...\u001b[0m\n",
      "Prompt after formatting:\n",
      "\u001b[32;1m\u001b[1;3mYou are a helpful assistant that identifies the intent of a user's query. \n",
      "There are 2 possible intents - GET PARKING SPOT, GET REGISTRATION DETAILS. \n",
      "Choose the most appropriate intent based on the human's query.\n",
      "What is the intent for the following ask? \n",
      "Where should I park my car?\n",
      "\u001b[0m\n",
      "\n",
      "\u001b[1m> Finished chain.\u001b[0m\n"
     ]
    },
    {
     "data": {
      "text/plain": [
       "'GET PARKING SPOT'"
      ]
     },
     "execution_count": 3,
     "metadata": {},
     "output_type": "execute_result"
    }
   ],
   "source": [
    "intent_chain.run(\"Where should I park my car?\")"
   ]
  },
  {
   "cell_type": "markdown",
   "metadata": {},
   "source": [
    "### Few shot prompt template"
   ]
  },
  {
   "cell_type": "code",
   "execution_count": 4,
   "metadata": {},
   "outputs": [],
   "source": [
    "from langchain.prompts.chat import (\n",
    "    ChatPromptTemplate\n",
    ")\n",
    "from langchain.prompts import FewShotChatMessagePromptTemplate\n",
    "\n",
    "intent_identification_examples = [\n",
    "    {\"input\": \"Find me the nearest parking spot.\", \"output\": \"GET PARKING SPOT\"},\n",
    "    {\"input\": \"Do you have the registration details of my vehicle?\", \"output\": \"GET REGISTRATION DETAILS\"},\n",
    "    {\"input\": \"Where can I park my vehicle?\", \"output\": \"GET PARKING SPOT\"},\n",
    "    {\"input\": \"Give me the registration details.\", \"output\": \"GET REGISTRATION DETAILS\"}\n",
    "]\n",
    "\n",
    "# This is a prompt template used to format each individual example.\n",
    "example_prompt = ChatPromptTemplate.from_messages(\n",
    "    [\n",
    "        (\"human\", \"{input}\"),\n",
    "        (\"ai\", \"{output}\"),\n",
    "    ]\n",
    ")\n",
    "few_shot_prompt = FewShotChatMessagePromptTemplate(\n",
    "    example_prompt=example_prompt,\n",
    "    examples=intent_identification_examples,\n",
    ")\n",
    "\n",
    "final_prompt = ChatPromptTemplate.from_messages(\n",
    "    [\n",
    "        (\"system\", \n",
    "         \"\"\"You are a helpful assistant that identifies the intent of a user's query. \n",
    "         There are 2 possible intents - GET PARKING SPOT, GET REGISTRATION DETAILS. \n",
    "         Choose the most appropriate intent based on the human's query. \n",
    "         Here are some examples for you to understand how to output the intent.\"\"\"\n",
    "         ),\n",
    "        few_shot_prompt,\n",
    "        (\"human\", \"{input}\\nAI: \"),\n",
    "    ]\n",
    ")\n",
    "\n",
    "llm = AzureChatOpenAI(\n",
    "    deployment_name=\"completion-gpt-35-turbo\",\n",
    "    model_name=\"gpt-35-turbo\",\n",
    "    temperature=0.0\n",
    ")\n",
    "intent_chain = LLMChain(llm=llm, prompt=final_prompt, output_key=\"intent\", output_parser=IntentOutputParser(), verbose=True)"
   ]
  },
  {
   "cell_type": "code",
   "execution_count": 5,
   "metadata": {},
   "outputs": [
    {
     "name": "stdout",
     "output_type": "stream",
     "text": [
      "\n",
      "\n",
      "\u001b[1m> Entering new LLMChain chain...\u001b[0m\n",
      "Prompt after formatting:\n",
      "\u001b[32;1m\u001b[1;3mSystem: You are a helpful assistant that identifies the intent of a user's query. \n",
      "         There are 2 possible intents - GET PARKING SPOT, GET REGISTRATION DETAILS. \n",
      "         Choose the most appropriate intent based on the human's query. \n",
      "         Here are some examples for you to understand how to output the intent.\n",
      "Human: Find me the nearest parking spot.\n",
      "AI: GET PARKING SPOT\n",
      "Human: Do you have the registration details of my vehicle?\n",
      "AI: GET REGISTRATION DETAILS\n",
      "Human: Where can I park my vehicle?\n",
      "AI: GET PARKING SPOT\n",
      "Human: Give me the registration details.\n",
      "AI: GET REGISTRATION DETAILS\n",
      "Human: Get the registeration details\n",
      "AI: \u001b[0m\n",
      "\n",
      "\u001b[1m> Finished chain.\u001b[0m\n"
     ]
    },
    {
     "data": {
      "text/plain": [
       "'GET REGISTRATION DETAILS'"
      ]
     },
     "execution_count": 5,
     "metadata": {},
     "output_type": "execute_result"
    }
   ],
   "source": [
    "intent_chain.run(\"Get the registeration details\")"
   ]
  },
  {
   "cell_type": "code",
   "execution_count": 6,
   "metadata": {},
   "outputs": [
    {
     "name": "stderr",
     "output_type": "stream",
     "text": [
      "c:\\Users\\dsanghvi\\Work\\langchain\\langchain_env\\lib\\site-packages\\tqdm\\auto.py:21: TqdmWarning: IProgress not found. Please update jupyter and ipywidgets. See https://ipywidgets.readthedocs.io/en/stable/user_install.html\n",
      "  from .autonotebook import tqdm as notebook_tqdm\n"
     ]
    },
    {
     "name": "stdout",
     "output_type": "stream",
     "text": [
      "Running on local URL:  http://127.0.0.1:7860\n",
      "\n",
      "To create a public link, set `share=True` in `launch()`.\n"
     ]
    },
    {
     "data": {
      "text/html": [
       "<div><iframe src=\"http://127.0.0.1:7860/\" width=\"100%\" height=\"500\" allow=\"autoplay; camera; microphone; clipboard-read; clipboard-write;\" frameborder=\"0\" allowfullscreen></iframe></div>"
      ],
      "text/plain": [
       "<IPython.core.display.HTML object>"
      ]
     },
     "metadata": {},
     "output_type": "display_data"
    },
    {
     "data": {
      "text/plain": []
     },
     "execution_count": 6,
     "metadata": {},
     "output_type": "execute_result"
    },
    {
     "name": "stdout",
     "output_type": "stream",
     "text": [
      "\n",
      "\n",
      "\u001b[1m> Entering new LLMChain chain...\u001b[0m\n",
      "Prompt after formatting:\n",
      "\u001b[32;1m\u001b[1;3mSystem: You are a helpful assistant that identifies the intent of a user's query. \n",
      "         There are 2 possible intents - GET PARKING SPOT, GET REGISTRATION DETAILS. \n",
      "         Choose the most appropriate intent based on the human's query. \n",
      "         Here are some examples for you to understand how to output the intent.\n",
      "Human: Find me the nearest parking spot.\n",
      "AI: GET PARKING SPOT\n",
      "Human: Do you have the registration details of my vehicle?\n",
      "AI: GET REGISTRATION DETAILS\n",
      "Human: Where can I park my vehicle?\n",
      "AI: GET PARKING SPOT\n",
      "Human: Give me the registration details.\n",
      "AI: GET REGISTRATION DETAILS\n",
      "Human: Park where\n",
      "AI: \u001b[0m\n",
      "\n",
      "\u001b[1m> Finished chain.\u001b[0m\n"
     ]
    }
   ],
   "source": [
    "import gradio as gr\n",
    "\n",
    "def intent_chain_func(query):\n",
    "    ans = intent_chain.run(query)\n",
    "    return f\"{ans}\"\n",
    "\n",
    "demo_intent_chain = gr.Interface(\n",
    "    fn=intent_chain_func,\n",
    "    inputs=[\"text\"],\n",
    "    outputs=[\"text\"],\n",
    "    title=\"Intent Recognizer\"\n",
    ")\n",
    "demo_intent_chain.launch()"
   ]
  },
  {
   "cell_type": "markdown",
   "metadata": {},
   "source": [
    "## Fetch user vehicle details"
   ]
  },
  {
   "cell_type": "code",
   "execution_count": 7,
   "metadata": {},
   "outputs": [],
   "source": [
    "# Fetching the vehicle details for the user\n",
    "import pandas as pd\n",
    "\n",
    "def get_vehicle_details_string(row):\n",
    "    values = list(row)\n",
    "    indices = row.index\n",
    "    st = \"\"\n",
    "    for a,b in list(zip(indices, values)):\n",
    "        st += a + \"-->\" + b\n",
    "        st += \", \"\n",
    "    return st\n",
    "\n",
    "def fetch_vehicle_details_from_live_database(user):\n",
    "    df_vehicle_details = pd.read_csv(\"./data/VehicleDetails.csv\")\n",
    "    df_user_vehicle = df_vehicle_details[df_vehicle_details[\"Employee\"] == user]\n",
    "    if len(df_user_vehicle) == 0:\n",
    "        \"NO REGISTERED VEHICLE FOUND\"\n",
    "    else:\n",
    "        return get_vehicle_details_string(df_user_vehicle.iloc[0,:])"
   ]
  },
  {
   "cell_type": "code",
   "execution_count": null,
   "metadata": {},
   "outputs": [],
   "source": [
    "import gradio as gr\n",
    "\n",
    "demo = gr.Interface(\n",
    "    fn=fetch_vehicle_details_from_live_database,\n",
    "    inputs=[\"text\"],\n",
    "    outputs=[\"text\"],\n",
    "    title=\"Get vehicle details\"\n",
    ")\n",
    "demo.launch()"
   ]
  },
  {
   "cell_type": "markdown",
   "metadata": {},
   "source": [
    "## Fetch available parking spots"
   ]
  },
  {
   "cell_type": "code",
   "execution_count": 8,
   "metadata": {},
   "outputs": [],
   "source": [
    "# Fetching the vehicle details for the user\n",
    "import pandas as pd\n",
    "\n",
    "def get_building_num(row):\n",
    "    return row[\"Outlook/Building Name\"]\n",
    "\n",
    "def fetch_available_parking_spots_in_building(building):\n",
    "    df_available_space = pd.read_csv(\"./data/AvailableSpace.csv\")\n",
    "    df_available_space = df_available_space[df_available_space[\"Building Number\"] == building]\n",
    "    if len(df_available_space) == 0:\n",
    "        \"NO PARKING SPOT FOUND\"\n",
    "    else:\n",
    "        return list(df_available_space[\"Parking Spot Number\"])"
   ]
  },
  {
   "cell_type": "markdown",
   "metadata": {},
   "source": [
    "## Wrapping everything together"
   ]
  },
  {
   "cell_type": "code",
   "execution_count": 9,
   "metadata": {},
   "outputs": [],
   "source": [
    "from langchain.tools import Tool\n",
    "from langchain.agents import create_csv_agent, AgentType, initialize_agent\n",
    "\n",
    "def intent_recognizer_api(query: str) -> str:\n",
    "    \"\"\"Identifies the intent of the user's query\"\"\"\n",
    "    ans = intent_chain.run(query)\n",
    "    return ans\n",
    "\n",
    "def get_employee_vehicle_details_api(user: str) -> str:\n",
    "    # \"\"\"Returns the details for an employee. The details contain the user's name, vehicle type, building name, fuel type of the vehicle, registration number, license plate number and the reserved parking.\"\"\"\n",
    "    \"\"\"Returns the vehicle details for any employee. \"\"\"\n",
    "    ans = fetch_vehicle_details_from_live_database(user)\n",
    "    return ans\n",
    "\n",
    "def fetch_parking_spots_in_building_api(building_name: str) -> str:\n",
    "    \"\"\"There is a database containing all the available parking spots. This function performs a lookup on the database to identify the available parking spots in a specific building\"\"\"\n",
    "    # ans = fetch_available_parking_spots_in_building(building_name)\n",
    "    agent = create_csv_agent(\n",
    "        llm,\n",
    "        \"./data/AvailableSpace.csv\",\n",
    "        verbose=True,\n",
    "        agent_type=AgentType.ZERO_SHOT_REACT_DESCRIPTION,\n",
    "    )\n",
    "    ans = agent.run(f\"Get me all the available parking spots in building {building_name}\")\n",
    "    return ans\n",
    "\n",
    "def ask_user_for_clarification_api(query_for_user: str) -> str:\n",
    "    # \"\"\"Asks the user for any required information/input. You can only ask for the user's name, or ask them to choose a parking spot.\"\"\"\n",
    "    \"\"\"Asks the user for any required information/input.\"\"\"\n",
    "    # print(query_for_user)\n",
    "    input_from_user = input()\n",
    "    return input_from_user\n",
    "\n",
    "\n"
   ]
  },
  {
   "cell_type": "code",
   "execution_count": 10,
   "metadata": {},
   "outputs": [],
   "source": [
    "t1 = Tool.from_function(\n",
    "        func=intent_recognizer_api,\n",
    "        name=\"get_intent_for_the_users_ask\",\n",
    "        description=\"Identifies the intent for the users ask\"\n",
    ")\n",
    "\n",
    "t2 = Tool.from_function(\n",
    "        func=get_employee_vehicle_details_api,\n",
    "        name=\"get_employee_vehicle_details\",\n",
    "        description=\"Returns the employee, thier building details and their vehicle details given the user's name\"\n",
    ")\n",
    "\n",
    "t3 = Tool.from_function(\n",
    "        func=fetch_parking_spots_in_building_api,\n",
    "        name=\"fetch_available_parking_spots_in_building\",\n",
    "        description=\"Performs a lookup on the database to identify the available parking spots in a specific building.\"\n",
    ")\n",
    "\n",
    "t4 = Tool.from_function(\n",
    "        func=ask_user_for_clarification_api,\n",
    "        name=\"ask_user_for_clarification\",\n",
    "        description=\"Asks the user for any required information/input.\"\n",
    ")\n",
    "\n",
    "agent = initialize_agent(\n",
    "        [t2, t3, t4], \n",
    "    llm, \n",
    "    agent=AgentType.ZERO_SHOT_REACT_DESCRIPTION, \n",
    "    verbose=True)"
   ]
  },
  {
   "cell_type": "code",
   "execution_count": 11,
   "metadata": {},
   "outputs": [
    {
     "name": "stdout",
     "output_type": "stream",
     "text": [
      "\n",
      "\n",
      "\u001b[1m> Entering new AgentExecutor chain...\u001b[0m\n",
      "\u001b[32;1m\u001b[1;3mI need to know which building the user is in and if they have a vehicle registered\n",
      "Action: get_employee_vehicle_details\n",
      "Action Input: user's name\u001b[0m\n",
      "Observation: \u001b[36;1m\u001b[1;3mNone\u001b[0m\n",
      "Thought:\u001b[32;1m\u001b[1;3mIf the user's name is not found, I need to ask for clarification\n",
      "Action: ask_user_for_clarification\n",
      "Action Input: \"I'm sorry, I couldn't find your name. Can you please provide more information?\"\u001b[0m\n",
      "Observation: \u001b[38;5;200m\u001b[1;3mAnanya\u001b[0m\n",
      "Thought:\u001b[32;1m\u001b[1;3mNow that I have the user's name, I need to check which building they are in\n",
      "Action: get_employee_vehicle_details\n",
      "Action Input: Ananya\u001b[0m\n",
      "Observation: \u001b[36;1m\u001b[1;3mEmployee-->Ananya, Vehicle Type-->Car, Outlook/Building Name-->Building 8, Fuel Type-->Electric, Registration type-->Personal, Licenseplatenumber-->MAT231481, Reserved Parking-->Expectant Mother, \u001b[0m\n",
      "Thought:\u001b[32;1m\u001b[1;3mNow that I know the building name, I need to fetch the available parking spots in that building\n",
      "Action: fetch_available_parking_spots_in_building\n",
      "Action Input: Building 8\u001b[0m\n",
      "\n",
      "\u001b[1m> Entering new AgentExecutor chain...\u001b[0m\n",
      "\u001b[32;1m\u001b[1;3mThought: I need to filter the dataframe to only include rows where the Building Number is \"Building 8\", and then extract the Parking Spot Number column.\n",
      "Action: python_repl_ast\n",
      "Action Input:\n",
      "```\n",
      "df[df['Building Number'] == 'Building 8']['Parking Spot Number']\n",
      "```\u001b[0m\n",
      "Observation: \u001b[36;1m\u001b[1;3m5     PQ12128\n",
      "11    PQ12134\n",
      "17    PQ12140\n",
      "25    PQ12148\n",
      "40    PQ12163\n",
      "45    PQ12168\n",
      "53    PQ12176\n",
      "61    PQ12184\n",
      "69    PQ12192\n",
      "82    PQ12205\n",
      "Name: Parking Spot Number, dtype: object\u001b[0m\n",
      "Thought:\u001b[32;1m\u001b[1;3mThe output shows all the available parking spots in Building 8.\n",
      "Final Answer: PQ12128, PQ12134, PQ12140, PQ12148, PQ12163, PQ12168, PQ12176, PQ12184, PQ12192, PQ12205.\u001b[0m\n",
      "\n",
      "\u001b[1m> Finished chain.\u001b[0m\n",
      "\n",
      "Observation: \u001b[33;1m\u001b[1;3mPQ12128, PQ12134, PQ12140, PQ12148, PQ12163, PQ12168, PQ12176, PQ12184, PQ12192, PQ12205.\u001b[0m\n",
      "Thought:\u001b[32;1m\u001b[1;3mI need to ask the user which parking spot they would like to reserve\n",
      "Action: ask_user_for_clarification\n",
      "Action Input: \"We have the following parking spots available in Building 8: PQ12128, PQ12134, PQ12140, PQ12148, PQ12163, PQ12168, PQ12176, PQ12184, PQ12192, PQ12205. Which one would you like to reserve?\"\u001b[0m\n",
      "Observation: \u001b[38;5;200m\u001b[1;3mPQ12184\u001b[0m\n",
      "Thought:\u001b[32;1m\u001b[1;3mNow that I have the user's chosen parking spot, I can confirm the reservation\n",
      "Action: ask_user_for_clarification\n",
      "Action Input: \"Great, we have reserved parking spot PQ12184 for you. Is there anything else I can assist you with?\"\u001b[0m\n",
      "Observation: \u001b[38;5;200m\u001b[1;3mNo thanks\u001b[0m\n",
      "Thought:"
     ]
    },
    {
     "ename": "OutputParserException",
     "evalue": "Could not parse LLM output: `The final answer is that parking spot PQ12184 has been reserved for Ananya.`",
     "output_type": "error",
     "traceback": [
      "\u001b[1;31m---------------------------------------------------------------------------\u001b[0m",
      "\u001b[1;31mOutputParserException\u001b[0m                     Traceback (most recent call last)",
      "Cell \u001b[1;32mIn[11], line 1\u001b[0m\n\u001b[1;32m----> 1\u001b[0m agent\u001b[39m.\u001b[39;49mrun(\u001b[39m\"\u001b[39;49m\u001b[39mHelp me find a parking spot\u001b[39;49m\u001b[39m\"\u001b[39;49m)\n",
      "File \u001b[1;32mc:\\Users\\dsanghvi\\Work\\langchain\\langchain_env\\lib\\site-packages\\langchain\\chains\\base.py:475\u001b[0m, in \u001b[0;36mChain.run\u001b[1;34m(self, callbacks, tags, metadata, *args, **kwargs)\u001b[0m\n\u001b[0;32m    473\u001b[0m     \u001b[39mif\u001b[39;00m \u001b[39mlen\u001b[39m(args) \u001b[39m!=\u001b[39m \u001b[39m1\u001b[39m:\n\u001b[0;32m    474\u001b[0m         \u001b[39mraise\u001b[39;00m \u001b[39mValueError\u001b[39;00m(\u001b[39m\"\u001b[39m\u001b[39m`run` supports only one positional argument.\u001b[39m\u001b[39m\"\u001b[39m)\n\u001b[1;32m--> 475\u001b[0m     \u001b[39mreturn\u001b[39;00m \u001b[39mself\u001b[39;49m(args[\u001b[39m0\u001b[39;49m], callbacks\u001b[39m=\u001b[39;49mcallbacks, tags\u001b[39m=\u001b[39;49mtags, metadata\u001b[39m=\u001b[39;49mmetadata)[\n\u001b[0;32m    476\u001b[0m         _output_key\n\u001b[0;32m    477\u001b[0m     ]\n\u001b[0;32m    479\u001b[0m \u001b[39mif\u001b[39;00m kwargs \u001b[39mand\u001b[39;00m \u001b[39mnot\u001b[39;00m args:\n\u001b[0;32m    480\u001b[0m     \u001b[39mreturn\u001b[39;00m \u001b[39mself\u001b[39m(kwargs, callbacks\u001b[39m=\u001b[39mcallbacks, tags\u001b[39m=\u001b[39mtags, metadata\u001b[39m=\u001b[39mmetadata)[\n\u001b[0;32m    481\u001b[0m         _output_key\n\u001b[0;32m    482\u001b[0m     ]\n",
      "File \u001b[1;32mc:\\Users\\dsanghvi\\Work\\langchain\\langchain_env\\lib\\site-packages\\langchain\\chains\\base.py:282\u001b[0m, in \u001b[0;36mChain.__call__\u001b[1;34m(self, inputs, return_only_outputs, callbacks, tags, metadata, include_run_info)\u001b[0m\n\u001b[0;32m    280\u001b[0m \u001b[39mexcept\u001b[39;00m (\u001b[39mKeyboardInterrupt\u001b[39;00m, \u001b[39mException\u001b[39;00m) \u001b[39mas\u001b[39;00m e:\n\u001b[0;32m    281\u001b[0m     run_manager\u001b[39m.\u001b[39mon_chain_error(e)\n\u001b[1;32m--> 282\u001b[0m     \u001b[39mraise\u001b[39;00m e\n\u001b[0;32m    283\u001b[0m run_manager\u001b[39m.\u001b[39mon_chain_end(outputs)\n\u001b[0;32m    284\u001b[0m final_outputs: Dict[\u001b[39mstr\u001b[39m, Any] \u001b[39m=\u001b[39m \u001b[39mself\u001b[39m\u001b[39m.\u001b[39mprep_outputs(\n\u001b[0;32m    285\u001b[0m     inputs, outputs, return_only_outputs\n\u001b[0;32m    286\u001b[0m )\n",
      "File \u001b[1;32mc:\\Users\\dsanghvi\\Work\\langchain\\langchain_env\\lib\\site-packages\\langchain\\chains\\base.py:276\u001b[0m, in \u001b[0;36mChain.__call__\u001b[1;34m(self, inputs, return_only_outputs, callbacks, tags, metadata, include_run_info)\u001b[0m\n\u001b[0;32m    270\u001b[0m run_manager \u001b[39m=\u001b[39m callback_manager\u001b[39m.\u001b[39mon_chain_start(\n\u001b[0;32m    271\u001b[0m     dumpd(\u001b[39mself\u001b[39m),\n\u001b[0;32m    272\u001b[0m     inputs,\n\u001b[0;32m    273\u001b[0m )\n\u001b[0;32m    274\u001b[0m \u001b[39mtry\u001b[39;00m:\n\u001b[0;32m    275\u001b[0m     outputs \u001b[39m=\u001b[39m (\n\u001b[1;32m--> 276\u001b[0m         \u001b[39mself\u001b[39;49m\u001b[39m.\u001b[39;49m_call(inputs, run_manager\u001b[39m=\u001b[39;49mrun_manager)\n\u001b[0;32m    277\u001b[0m         \u001b[39mif\u001b[39;00m new_arg_supported\n\u001b[0;32m    278\u001b[0m         \u001b[39melse\u001b[39;00m \u001b[39mself\u001b[39m\u001b[39m.\u001b[39m_call(inputs)\n\u001b[0;32m    279\u001b[0m     )\n\u001b[0;32m    280\u001b[0m \u001b[39mexcept\u001b[39;00m (\u001b[39mKeyboardInterrupt\u001b[39;00m, \u001b[39mException\u001b[39;00m) \u001b[39mas\u001b[39;00m e:\n\u001b[0;32m    281\u001b[0m     run_manager\u001b[39m.\u001b[39mon_chain_error(e)\n",
      "File \u001b[1;32mc:\\Users\\dsanghvi\\Work\\langchain\\langchain_env\\lib\\site-packages\\langchain\\agents\\agent.py:1036\u001b[0m, in \u001b[0;36mAgentExecutor._call\u001b[1;34m(self, inputs, run_manager)\u001b[0m\n\u001b[0;32m   1034\u001b[0m \u001b[39m# We now enter the agent loop (until it returns something).\u001b[39;00m\n\u001b[0;32m   1035\u001b[0m \u001b[39mwhile\u001b[39;00m \u001b[39mself\u001b[39m\u001b[39m.\u001b[39m_should_continue(iterations, time_elapsed):\n\u001b[1;32m-> 1036\u001b[0m     next_step_output \u001b[39m=\u001b[39m \u001b[39mself\u001b[39;49m\u001b[39m.\u001b[39;49m_take_next_step(\n\u001b[0;32m   1037\u001b[0m         name_to_tool_map,\n\u001b[0;32m   1038\u001b[0m         color_mapping,\n\u001b[0;32m   1039\u001b[0m         inputs,\n\u001b[0;32m   1040\u001b[0m         intermediate_steps,\n\u001b[0;32m   1041\u001b[0m         run_manager\u001b[39m=\u001b[39;49mrun_manager,\n\u001b[0;32m   1042\u001b[0m     )\n\u001b[0;32m   1043\u001b[0m     \u001b[39mif\u001b[39;00m \u001b[39misinstance\u001b[39m(next_step_output, AgentFinish):\n\u001b[0;32m   1044\u001b[0m         \u001b[39mreturn\u001b[39;00m \u001b[39mself\u001b[39m\u001b[39m.\u001b[39m_return(\n\u001b[0;32m   1045\u001b[0m             next_step_output, intermediate_steps, run_manager\u001b[39m=\u001b[39mrun_manager\n\u001b[0;32m   1046\u001b[0m         )\n",
      "File \u001b[1;32mc:\\Users\\dsanghvi\\Work\\langchain\\langchain_env\\lib\\site-packages\\langchain\\agents\\agent.py:844\u001b[0m, in \u001b[0;36mAgentExecutor._take_next_step\u001b[1;34m(self, name_to_tool_map, color_mapping, inputs, intermediate_steps, run_manager)\u001b[0m\n\u001b[0;32m    842\u001b[0m     raise_error \u001b[39m=\u001b[39m \u001b[39mFalse\u001b[39;00m\n\u001b[0;32m    843\u001b[0m \u001b[39mif\u001b[39;00m raise_error:\n\u001b[1;32m--> 844\u001b[0m     \u001b[39mraise\u001b[39;00m e\n\u001b[0;32m    845\u001b[0m text \u001b[39m=\u001b[39m \u001b[39mstr\u001b[39m(e)\n\u001b[0;32m    846\u001b[0m \u001b[39mif\u001b[39;00m \u001b[39misinstance\u001b[39m(\u001b[39mself\u001b[39m\u001b[39m.\u001b[39mhandle_parsing_errors, \u001b[39mbool\u001b[39m):\n",
      "File \u001b[1;32mc:\\Users\\dsanghvi\\Work\\langchain\\langchain_env\\lib\\site-packages\\langchain\\agents\\agent.py:833\u001b[0m, in \u001b[0;36mAgentExecutor._take_next_step\u001b[1;34m(self, name_to_tool_map, color_mapping, inputs, intermediate_steps, run_manager)\u001b[0m\n\u001b[0;32m    830\u001b[0m     intermediate_steps \u001b[39m=\u001b[39m \u001b[39mself\u001b[39m\u001b[39m.\u001b[39m_prepare_intermediate_steps(intermediate_steps)\n\u001b[0;32m    832\u001b[0m     \u001b[39m# Call the LLM to see what to do.\u001b[39;00m\n\u001b[1;32m--> 833\u001b[0m     output \u001b[39m=\u001b[39m \u001b[39mself\u001b[39m\u001b[39m.\u001b[39magent\u001b[39m.\u001b[39mplan(\n\u001b[0;32m    834\u001b[0m         intermediate_steps,\n\u001b[0;32m    835\u001b[0m         callbacks\u001b[39m=\u001b[39mrun_manager\u001b[39m.\u001b[39mget_child() \u001b[39mif\u001b[39;00m run_manager \u001b[39melse\u001b[39;00m \u001b[39mNone\u001b[39;00m,\n\u001b[0;32m    836\u001b[0m         \u001b[39m*\u001b[39m\u001b[39m*\u001b[39minputs,\n\u001b[0;32m    837\u001b[0m     )\n\u001b[0;32m    838\u001b[0m \u001b[39mexcept\u001b[39;00m OutputParserException \u001b[39mas\u001b[39;00m e:\n\u001b[0;32m    839\u001b[0m     \u001b[39mif\u001b[39;00m \u001b[39misinstance\u001b[39m(\u001b[39mself\u001b[39m\u001b[39m.\u001b[39mhandle_parsing_errors, \u001b[39mbool\u001b[39m):\n",
      "File \u001b[1;32mc:\\Users\\dsanghvi\\Work\\langchain\\langchain_env\\lib\\site-packages\\langchain\\agents\\agent.py:457\u001b[0m, in \u001b[0;36mAgent.plan\u001b[1;34m(self, intermediate_steps, callbacks, **kwargs)\u001b[0m\n\u001b[0;32m    455\u001b[0m full_inputs \u001b[39m=\u001b[39m \u001b[39mself\u001b[39m\u001b[39m.\u001b[39mget_full_inputs(intermediate_steps, \u001b[39m*\u001b[39m\u001b[39m*\u001b[39mkwargs)\n\u001b[0;32m    456\u001b[0m full_output \u001b[39m=\u001b[39m \u001b[39mself\u001b[39m\u001b[39m.\u001b[39mllm_chain\u001b[39m.\u001b[39mpredict(callbacks\u001b[39m=\u001b[39mcallbacks, \u001b[39m*\u001b[39m\u001b[39m*\u001b[39mfull_inputs)\n\u001b[1;32m--> 457\u001b[0m \u001b[39mreturn\u001b[39;00m \u001b[39mself\u001b[39;49m\u001b[39m.\u001b[39;49moutput_parser\u001b[39m.\u001b[39;49mparse(full_output)\n",
      "File \u001b[1;32mc:\\Users\\dsanghvi\\Work\\langchain\\langchain_env\\lib\\site-packages\\langchain\\agents\\mrkl\\output_parser.py:52\u001b[0m, in \u001b[0;36mMRKLOutputParser.parse\u001b[1;34m(self, text)\u001b[0m\n\u001b[0;32m     47\u001b[0m     \u001b[39mreturn\u001b[39;00m AgentFinish(\n\u001b[0;32m     48\u001b[0m         {\u001b[39m\"\u001b[39m\u001b[39moutput\u001b[39m\u001b[39m\"\u001b[39m: text\u001b[39m.\u001b[39msplit(FINAL_ANSWER_ACTION)[\u001b[39m-\u001b[39m\u001b[39m1\u001b[39m]\u001b[39m.\u001b[39mstrip()}, text\n\u001b[0;32m     49\u001b[0m     )\n\u001b[0;32m     51\u001b[0m \u001b[39mif\u001b[39;00m \u001b[39mnot\u001b[39;00m re\u001b[39m.\u001b[39msearch(\u001b[39mr\u001b[39m\u001b[39m\"\u001b[39m\u001b[39mAction\u001b[39m\u001b[39m\\\u001b[39m\u001b[39ms*\u001b[39m\u001b[39m\\\u001b[39m\u001b[39md*\u001b[39m\u001b[39m\\\u001b[39m\u001b[39ms*:[\u001b[39m\u001b[39m\\\u001b[39m\u001b[39ms]*(.*?)\u001b[39m\u001b[39m\"\u001b[39m, text, re\u001b[39m.\u001b[39mDOTALL):\n\u001b[1;32m---> 52\u001b[0m     \u001b[39mraise\u001b[39;00m OutputParserException(\n\u001b[0;32m     53\u001b[0m         \u001b[39mf\u001b[39m\u001b[39m\"\u001b[39m\u001b[39mCould not parse LLM output: `\u001b[39m\u001b[39m{\u001b[39;00mtext\u001b[39m}\u001b[39;00m\u001b[39m`\u001b[39m\u001b[39m\"\u001b[39m,\n\u001b[0;32m     54\u001b[0m         observation\u001b[39m=\u001b[39mMISSING_ACTION_AFTER_THOUGHT_ERROR_MESSAGE,\n\u001b[0;32m     55\u001b[0m         llm_output\u001b[39m=\u001b[39mtext,\n\u001b[0;32m     56\u001b[0m         send_to_llm\u001b[39m=\u001b[39m\u001b[39mTrue\u001b[39;00m,\n\u001b[0;32m     57\u001b[0m     )\n\u001b[0;32m     58\u001b[0m \u001b[39melif\u001b[39;00m \u001b[39mnot\u001b[39;00m re\u001b[39m.\u001b[39msearch(\n\u001b[0;32m     59\u001b[0m     \u001b[39mr\u001b[39m\u001b[39m\"\u001b[39m\u001b[39m[\u001b[39m\u001b[39m\\\u001b[39m\u001b[39ms]*Action\u001b[39m\u001b[39m\\\u001b[39m\u001b[39ms*\u001b[39m\u001b[39m\\\u001b[39m\u001b[39md*\u001b[39m\u001b[39m\\\u001b[39m\u001b[39ms*Input\u001b[39m\u001b[39m\\\u001b[39m\u001b[39ms*\u001b[39m\u001b[39m\\\u001b[39m\u001b[39md*\u001b[39m\u001b[39m\\\u001b[39m\u001b[39ms*:[\u001b[39m\u001b[39m\\\u001b[39m\u001b[39ms]*(.*)\u001b[39m\u001b[39m\"\u001b[39m, text, re\u001b[39m.\u001b[39mDOTALL\n\u001b[0;32m     60\u001b[0m ):\n\u001b[0;32m     61\u001b[0m     \u001b[39mraise\u001b[39;00m OutputParserException(\n\u001b[0;32m     62\u001b[0m         \u001b[39mf\u001b[39m\u001b[39m\"\u001b[39m\u001b[39mCould not parse LLM output: `\u001b[39m\u001b[39m{\u001b[39;00mtext\u001b[39m}\u001b[39;00m\u001b[39m`\u001b[39m\u001b[39m\"\u001b[39m,\n\u001b[0;32m     63\u001b[0m         observation\u001b[39m=\u001b[39mMISSING_ACTION_INPUT_AFTER_ACTION_ERROR_MESSAGE,\n\u001b[0;32m     64\u001b[0m         llm_output\u001b[39m=\u001b[39mtext,\n\u001b[0;32m     65\u001b[0m         send_to_llm\u001b[39m=\u001b[39m\u001b[39mTrue\u001b[39;00m,\n\u001b[0;32m     66\u001b[0m     )\n",
      "\u001b[1;31mOutputParserException\u001b[0m: Could not parse LLM output: `The final answer is that parking spot PQ12184 has been reserved for Ananya.`"
     ]
    }
   ],
   "source": [
    "agent.run(\"Help me find a parking spot\")"
   ]
  },
  {
   "cell_type": "code",
   "execution_count": null,
   "metadata": {},
   "outputs": [],
   "source": []
  }
 ],
 "metadata": {
  "kernelspec": {
   "display_name": "langchain_env",
   "language": "python",
   "name": "python3"
  },
  "language_info": {
   "codemirror_mode": {
    "name": "ipython",
    "version": 3
   },
   "file_extension": ".py",
   "mimetype": "text/x-python",
   "name": "python",
   "nbconvert_exporter": "python",
   "pygments_lexer": "ipython3",
   "version": "3.10.11"
  },
  "orig_nbformat": 4
 },
 "nbformat": 4,
 "nbformat_minor": 2
}
