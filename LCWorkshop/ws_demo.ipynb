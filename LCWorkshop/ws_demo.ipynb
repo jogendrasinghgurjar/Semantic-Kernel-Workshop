{
 "cells": [
  {
   "cell_type": "markdown",
   "metadata": {},
   "source": [
    "## Setting up the env variables"
   ]
  },
  {
   "cell_type": "code",
   "execution_count": null,
   "metadata": {},
   "outputs": [],
   "source": [
    "# Import Azure OpenAI\n",
    "from langchain.llms import AzureOpenAI\n",
    "from langchain.chains import LLMChain\n",
    "from dotenv import load_dotenv\n",
    "load_dotenv(\"../../.env\")\n",
    "from langchain.chat_models import AzureChatOpenAI"
   ]
  },
  {
   "cell_type": "markdown",
   "metadata": {},
   "source": [
    "## Intent chain - (Intent Skill)"
   ]
  },
  {
   "cell_type": "code",
   "execution_count": null,
   "metadata": {},
   "outputs": [],
   "source": [
    "from langchain.schema import BaseOutputParser\n",
    "from langchain.prompts import PromptTemplate\n",
    "\n",
    "class IntentOutputParser(BaseOutputParser):\n",
    "    \"\"\"Parse the output of an LLM call to a comma-separated list.\"\"\"\n",
    "\n",
    "    def parse(self, text: str):\n",
    "        \"\"\"Parse the output of an LLM call.\"\"\"\n",
    "        intents = [\"GET PARKING SPOT\", \"GET REGISTRATION DETAILS\"]\n",
    "        for i in intents:\n",
    "            if i in text:\n",
    "                return i\n",
    "        return \"INTENT UNCLEAR\"\n",
    "\n",
    "\n",
    "intents = [\"GET PARKING SPOT\", \"GET REGISTRATION DETAILS\"]\n",
    "prompt_template = PromptTemplate.from_template(\"\"\"You are a helpful assistant that identifies the intent of a user's query. \n",
    "There are 2 possible intents - GET PARKING SPOT, GET REGISTRATION DETAILS. \n",
    "Choose the most appropriate intent based on the human's query.\n",
    "What is the intent for the following ask? \n",
    "{ask}\n",
    "\"\"\")\n",
    "\n",
    "llm = AzureOpenAI(\n",
    "    deployment_name=\"completion-gpt-35-turbo\",\n",
    "    model_name=\"gpt-35-turbo\",\n",
    "    temperature=0.0\n",
    ")\n",
    "intent_chain = LLMChain(llm=llm, prompt=prompt_template, output_key=\"intent\", output_parser=IntentOutputParser(), verbose=True)"
   ]
  },
  {
   "cell_type": "code",
   "execution_count": null,
   "metadata": {},
   "outputs": [],
   "source": [
    "intent_chain.run(\"Where should I park my car?\")"
   ]
  },
  {
   "cell_type": "markdown",
   "metadata": {},
   "source": [
    "### Few shot prompt template"
   ]
  },
  {
   "cell_type": "code",
   "execution_count": null,
   "metadata": {},
   "outputs": [],
   "source": [
    "from langchain.prompts.chat import (\n",
    "    ChatPromptTemplate\n",
    ")\n",
    "from langchain.prompts import FewShotChatMessagePromptTemplate\n",
    "\n",
    "intent_identification_examples = [\n",
    "    {\"input\": \"Find me the nearest parking spot.\", \"output\": \"GET PARKING SPOT\"},\n",
    "    {\"input\": \"Do you have the registration details of my vehicle?\", \"output\": \"GET REGISTRATION DETAILS\"},\n",
    "    {\"input\": \"Where can I park my vehicle?\", \"output\": \"GET PARKING SPOT\"},\n",
    "    {\"input\": \"Give me the registration details.\", \"output\": \"GET REGISTRATION DETAILS\"}\n",
    "]\n",
    "\n",
    "# This is a prompt template used to format each individual example.\n",
    "example_prompt = ChatPromptTemplate.from_messages(\n",
    "    [\n",
    "        (\"human\", \"{input}\"),\n",
    "        (\"ai\", \"{output}\"),\n",
    "    ]\n",
    ")\n",
    "few_shot_prompt = FewShotChatMessagePromptTemplate(\n",
    "    example_prompt=example_prompt,\n",
    "    examples=intent_identification_examples,\n",
    ")\n",
    "\n",
    "final_prompt = ChatPromptTemplate.from_messages(\n",
    "    [\n",
    "        (\"system\", \n",
    "         \"\"\"You are a helpful assistant that identifies the intent of a user's query. \n",
    "         There are 2 possible intents - GET PARKING SPOT, GET REGISTRATION DETAILS. \n",
    "         Choose the most appropriate intent based on the human's query. \n",
    "         Here are some examples for you to understand how to output the intent.\"\"\"\n",
    "         ),\n",
    "        few_shot_prompt,\n",
    "        (\"human\", \"{input}\\nAI: \"),\n",
    "    ]\n",
    ")\n",
    "\n",
    "llm = AzureChatOpenAI(\n",
    "    deployment_name=\"completion-gpt-35-turbo\",\n",
    "    model_name=\"gpt-35-turbo\",\n",
    "    temperature=0.0\n",
    ")\n",
    "intent_chain = LLMChain(llm=llm, prompt=final_prompt, output_key=\"intent\", output_parser=IntentOutputParser(), verbose=True)"
   ]
  },
  {
   "cell_type": "code",
   "execution_count": null,
   "metadata": {},
   "outputs": [],
   "source": [
    "intent_chain.run(\"Get the registeration details\")"
   ]
  },
  {
   "cell_type": "code",
   "execution_count": null,
   "metadata": {},
   "outputs": [],
   "source": [
    "import gradio as gr\n",
    "\n",
    "def intent_chain_func(query):\n",
    "    ans = intent_chain.run(query)\n",
    "    return f\"{ans}\"\n",
    "\n",
    "demo_intent_chain = gr.Interface(\n",
    "    fn=intent_chain_func,\n",
    "    inputs=[\"text\"],\n",
    "    outputs=[\"text\"],\n",
    "    title=\"Intent Recognizer\"\n",
    ")\n",
    "demo_intent_chain.launch()"
   ]
  },
  {
   "cell_type": "markdown",
   "metadata": {},
   "source": [
    "## Fetch user vehicle details"
   ]
  },
  {
   "cell_type": "code",
   "execution_count": null,
   "metadata": {},
   "outputs": [],
   "source": [
    "# Fetching the vehicle details for the user\n",
    "import pandas as pd\n",
    "\n",
    "def get_vehicle_details_string(row):\n",
    "    values = list(row)\n",
    "    indices = row.index\n",
    "    st = \"\"\n",
    "    for a,b in list(zip(indices, values)):\n",
    "        st += a + \"-->\" + b\n",
    "        st += \", \"\n",
    "    return st\n",
    "\n",
    "def fetch_vehicle_details_from_live_database(user):\n",
    "    df_vehicle_details = pd.read_csv(\"./data/VehicleDetails.csv\")\n",
    "    df_user_vehicle = df_vehicle_details[df_vehicle_details[\"Employee\"] == user]\n",
    "    if len(df_user_vehicle) == 0:\n",
    "        \"NO REGISTERED VEHICLE FOUND\"\n",
    "    else:\n",
    "        # return df_user_vehicle.iloc[0,:][\"Outlook/Building Name\"]\n",
    "        return get_vehicle_details_string(df_user_vehicle.iloc[0,:])"
   ]
  },
  {
   "cell_type": "code",
   "execution_count": null,
   "metadata": {},
   "outputs": [],
   "source": [
    "import gradio as gr\n",
    "\n",
    "demo = gr.Interface(\n",
    "    fn=fetch_vehicle_details_from_live_database,\n",
    "    inputs=[\"text\"],\n",
    "    outputs=[\"text\"],\n",
    "    title=\"Get vehicle details\"\n",
    ")\n",
    "demo.launch()"
   ]
  },
  {
   "cell_type": "markdown",
   "metadata": {},
   "source": [
    "## Fetch available parking spots"
   ]
  },
  {
   "cell_type": "code",
   "execution_count": null,
   "metadata": {},
   "outputs": [],
   "source": [
    "# Fetching the vehicle details for the user\n",
    "import pandas as pd\n",
    "\n",
    "def get_building_num(row):\n",
    "    return row[\"Outlook/Building Name\"]\n",
    "\n",
    "def fetch_available_parking_spots_in_building(building):\n",
    "    df_available_space = pd.read_csv(\"./data/AvailableSpace.csv\")\n",
    "    df_available_space = df_available_space[df_available_space[\"Building Number\"] == building]\n",
    "    if len(df_available_space) == 0:\n",
    "        \"NO PARKING SPOT FOUND\"\n",
    "    else:\n",
    "        return list(df_available_space[\"Parking Spot Number\"])"
   ]
  },
  {
   "cell_type": "markdown",
   "metadata": {},
   "source": [
    "## Wrapping everything together"
   ]
  },
  {
   "cell_type": "code",
   "execution_count": null,
   "metadata": {},
   "outputs": [],
   "source": [
    "from langchain.tools import BaseTool, Tool, tool\n",
    "from pydantic import BaseModel, Field\n",
    "from langchain.agents import create_csv_agent, AgentType, initialize_agent\n",
    "\n",
    "def intent_recognizer_api(query: str) -> str:\n",
    "    \"\"\"Identifies the intent of the user's query\"\"\"\n",
    "    ans = intent_chain.run(query)\n",
    "    return ans\n",
    "\n",
    "def get_employee_vehicle_details_api(user: str) -> str:\n",
    "    # \"\"\"Returns the details for an employee. The details contain the user's name, vehicle type, building name, fuel type of the vehicle, registration number, license plate number and the reserved parking.\"\"\"\n",
    "    \"\"\"Returns the vehicle details for any employee. \"\"\"\n",
    "    ans = fetch_vehicle_details_from_live_database(user)\n",
    "    return ans\n",
    "\n",
    "def fetch_parking_spots_in_building_api(building_name: str) -> str:\n",
    "    \"\"\"There is a database containing all the available parking spots. This function performs a lookup on the database to identify the available parking spots in a specific building\"\"\"\n",
    "    # ans = fetch_available_parking_spots_in_building(building_name)\n",
    "    agent = create_csv_agent(\n",
    "        llm,\n",
    "        \"./data/AvailableSpace.csv\",\n",
    "        verbose=True,\n",
    "        agent_type=AgentType.ZERO_SHOT_REACT_DESCRIPTION,\n",
    "    )\n",
    "    ans = agent.run(f\"Get me all the available parking spots in building {building_name}\")\n",
    "    return ans\n",
    "\n",
    "def ask_user_for_clarification_api(query_for_user: str) -> str:\n",
    "    # \"\"\"Asks the user for any required information/input. You can only ask for the user's name, or ask them to choose a parking spot.\"\"\"\n",
    "    \"\"\"Asks the user for any required information/input.\"\"\"\n",
    "    # print(query_for_user)\n",
    "    input_from_user = input()\n",
    "    return input_from_user\n",
    "\n",
    "\n"
   ]
  },
  {
   "cell_type": "code",
   "execution_count": null,
   "metadata": {},
   "outputs": [],
   "source": [
    "t1 = Tool.from_function(\n",
    "        func=intent_recognizer_api,\n",
    "        name=\"get_intent_for_the_users_ask\",\n",
    "        description=\"Identifies the intent for the users ask\"\n",
    ")\n",
    "\n",
    "t2 = Tool.from_function(\n",
    "        func=get_employee_vehicle_details_api,\n",
    "        name=\"get_employee_vehicle_details\",\n",
    "        description=\"Returns the employee, thier building details and their vehicle details given the user's name\"\n",
    ")\n",
    "\n",
    "t3 = Tool.from_function(\n",
    "        func=fetch_parking_spots_in_building_api,\n",
    "        name=\"fetch_available_parking_spots_in_building\",\n",
    "        description=\"Performs a lookup on the database to identify the available parking spots in a specific building.\"\n",
    ")\n",
    "\n",
    "t4 = Tool.from_function(\n",
    "        func=ask_user_for_clarification_api,\n",
    "        name=\"ask_user_for_clarification\",\n",
    "        description=\"Asks the user for any required information/input.\"\n",
    ")\n",
    "\n",
    "agent = initialize_agent(\n",
    "        [t2, t3, t4], \n",
    "    llm, \n",
    "    agent=AgentType.ZERO_SHOT_REACT_DESCRIPTION, \n",
    "    verbose=True)"
   ]
  },
  {
   "cell_type": "code",
   "execution_count": null,
   "metadata": {},
   "outputs": [],
   "source": [
    "agent.run(\"Help me find a parking spot\")"
   ]
  }
 ],
 "metadata": {
  "kernelspec": {
   "display_name": "langchain_env",
   "language": "python",
   "name": "python3"
  },
  "language_info": {
   "codemirror_mode": {
    "name": "ipython",
    "version": 3
   },
   "file_extension": ".py",
   "mimetype": "text/x-python",
   "name": "python",
   "nbconvert_exporter": "python",
   "pygments_lexer": "ipython3",
   "version": "3.10.11"
  },
  "orig_nbformat": 4
 },
 "nbformat": 4,
 "nbformat_minor": 2
}
